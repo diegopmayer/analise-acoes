{
 "cells": [
  {
   "cell_type": "markdown",
   "id": "1d8904e7",
   "metadata": {},
   "source": [
    "Planning for this cycle\n",
    "\n",
    "- Cleaning the dataset\n",
    "- Listing rank of the best stock and chosen them\n",
    "- Create a first solution faster"
   ]
  },
  {
   "cell_type": "markdown",
   "id": "91174aef",
   "metadata": {
    "heading_collapsed": true
   },
   "source": [
    "# 1.0 - Packages"
   ]
  },
  {
   "cell_type": "markdown",
   "id": "fb79bb1e",
   "metadata": {
    "heading_collapsed": true,
    "hidden": true
   },
   "source": [
    "## 1.1 - Libraries"
   ]
  },
  {
   "cell_type": "code",
   "execution_count": 1,
   "id": "241be5fe",
   "metadata": {
    "ExecuteTime": {
     "end_time": "2021-07-25T11:42:24.711538Z",
     "start_time": "2021-07-25T11:42:01.536561Z"
    },
    "hidden": true
   },
   "outputs": [],
   "source": [
    "# data manipulation\n",
    "import pandas as pd\n",
    "from datetime import datetime\n",
    "from IPython.display import clear_output\n",
    "\n",
    "# data visualization\n",
    "import matplotlib.pyplot as plt\n",
    "import seaborn as sns\n",
    "\n",
    "# jupyter viewer\n",
    "from IPython.core.display import display, HTML"
   ]
  },
  {
   "cell_type": "markdown",
   "id": "d093f014",
   "metadata": {
    "heading_collapsed": true,
    "hidden": true
   },
   "source": [
    "## 1.2 - Helper Functions"
   ]
  },
  {
   "cell_type": "code",
   "execution_count": 2,
   "id": "c8859265",
   "metadata": {
    "ExecuteTime": {
     "end_time": "2021-07-25T11:42:24.733524Z",
     "start_time": "2021-07-25T11:42:24.719971Z"
    },
    "hidden": true
   },
   "outputs": [
    {
     "data": {
      "text/html": [
       "<style>.conteiner{width:100% !important;}</style>"
      ],
      "text/plain": [
       "<IPython.core.display.HTML object>"
      ]
     },
     "metadata": {},
     "output_type": "display_data"
    }
   ],
   "source": [
    "def jupyter_settings():\n",
    "    \n",
    "    # tamanho dos gráficos para o matplotlib\n",
    "    plt.style.use('bmh')\n",
    "    plt.rcParams['figure.figsize'] = [25, 12]\n",
    "    plt.rcParams['font.size'] = 20\n",
    "    # colocando para aparecer todas as colunas e linhas e ponto flutuantes\n",
    "    pd.options.display.max_columns = None\n",
    "    pd.options.display.max_rows = None\n",
    "    pd.options.display.float_format = '{:.3f}'.format\n",
    "    pd.set_option('display.expand_frame_repr', False)\n",
    "    # expandir a visualização da tela em 100%, como se fosse um zoom\n",
    "    display(HTML('<style>.conteiner{width:100% !important;}</style>'))\n",
    "\n",
    "    #aplicar as mesmas configurações no seaborn\n",
    "    sns.set()\n",
    "\n",
    "jupyter_settings()\n",
    "\n",
    "# the path when the dataset be\n",
    "raw_path = '/home/diegopmayer/Documents/projects/ideias/analise-acoes/notebooks/dataset/raw'"
   ]
  },
  {
   "cell_type": "markdown",
   "id": "ef0dafb5",
   "metadata": {
    "heading_collapsed": true
   },
   "source": [
    "# 2.0 - Data Extraction"
   ]
  },
  {
   "cell_type": "code",
   "execution_count": 3,
   "id": "857f3509",
   "metadata": {
    "ExecuteTime": {
     "end_time": "2021-07-25T11:42:25.911284Z",
     "start_time": "2021-07-25T11:42:24.736144Z"
    },
    "hidden": true
   },
   "outputs": [],
   "source": [
    "# select the data loaded on step 2.2 by cycle 01\n",
    "dataset = pd.read_feather(f'{raw_path}/dataset.ftr')"
   ]
  },
  {
   "cell_type": "code",
   "execution_count": 4,
   "id": "f6a387ca",
   "metadata": {
    "ExecuteTime": {
     "end_time": "2021-07-25T11:42:26.013020Z",
     "start_time": "2021-07-25T11:42:25.912812Z"
    },
    "hidden": true
   },
   "outputs": [
    {
     "data": {
      "text/html": [
       "<div>\n",
       "<style scoped>\n",
       "    .dataframe tbody tr th:only-of-type {\n",
       "        vertical-align: middle;\n",
       "    }\n",
       "\n",
       "    .dataframe tbody tr th {\n",
       "        vertical-align: top;\n",
       "    }\n",
       "\n",
       "    .dataframe thead th {\n",
       "        text-align: right;\n",
       "    }\n",
       "</style>\n",
       "<table border=\"1\" class=\"dataframe\">\n",
       "  <thead>\n",
       "    <tr style=\"text-align: right;\">\n",
       "      <th></th>\n",
       "      <th>Date</th>\n",
       "      <th>Open</th>\n",
       "      <th>High</th>\n",
       "      <th>Low</th>\n",
       "      <th>Close</th>\n",
       "      <th>Volume</th>\n",
       "      <th>Currency</th>\n",
       "      <th>symbol</th>\n",
       "    </tr>\n",
       "  </thead>\n",
       "  <tbody>\n",
       "    <tr>\n",
       "      <th>0</th>\n",
       "      <td>2007-09-27</td>\n",
       "      <td>5.870</td>\n",
       "      <td>6.130</td>\n",
       "      <td>5.870</td>\n",
       "      <td>5.870</td>\n",
       "      <td>365422</td>\n",
       "      <td>BRL</td>\n",
       "      <td>ABCB4</td>\n",
       "    </tr>\n",
       "    <tr>\n",
       "      <th>1</th>\n",
       "      <td>2007-09-28</td>\n",
       "      <td>5.920</td>\n",
       "      <td>5.920</td>\n",
       "      <td>5.830</td>\n",
       "      <td>5.830</td>\n",
       "      <td>94941</td>\n",
       "      <td>BRL</td>\n",
       "      <td>ABCB4</td>\n",
       "    </tr>\n",
       "    <tr>\n",
       "      <th>2</th>\n",
       "      <td>2007-10-01</td>\n",
       "      <td>5.790</td>\n",
       "      <td>6.110</td>\n",
       "      <td>5.790</td>\n",
       "      <td>5.940</td>\n",
       "      <td>265772</td>\n",
       "      <td>BRL</td>\n",
       "      <td>ABCB4</td>\n",
       "    </tr>\n",
       "    <tr>\n",
       "      <th>3</th>\n",
       "      <td>2007-10-02</td>\n",
       "      <td>5.930</td>\n",
       "      <td>5.960</td>\n",
       "      <td>5.750</td>\n",
       "      <td>5.930</td>\n",
       "      <td>34930</td>\n",
       "      <td>BRL</td>\n",
       "      <td>ABCB4</td>\n",
       "    </tr>\n",
       "    <tr>\n",
       "      <th>4</th>\n",
       "      <td>2007-10-03</td>\n",
       "      <td>5.760</td>\n",
       "      <td>5.910</td>\n",
       "      <td>5.760</td>\n",
       "      <td>5.910</td>\n",
       "      <td>34964</td>\n",
       "      <td>BRL</td>\n",
       "      <td>ABCB4</td>\n",
       "    </tr>\n",
       "  </tbody>\n",
       "</table>\n",
       "</div>"
      ],
      "text/plain": [
       "        Date  Open  High   Low  Close  Volume Currency symbol\n",
       "0 2007-09-27 5.870 6.130 5.870  5.870  365422      BRL  ABCB4\n",
       "1 2007-09-28 5.920 5.920 5.830  5.830   94941      BRL  ABCB4\n",
       "2 2007-10-01 5.790 6.110 5.790  5.940  265772      BRL  ABCB4\n",
       "3 2007-10-02 5.930 5.960 5.750  5.930   34930      BRL  ABCB4\n",
       "4 2007-10-03 5.760 5.910 5.760  5.910   34964      BRL  ABCB4"
      ]
     },
     "execution_count": 4,
     "metadata": {},
     "output_type": "execute_result"
    }
   ],
   "source": [
    "dataset.head()"
   ]
  },
  {
   "cell_type": "code",
   "execution_count": 5,
   "id": "82c768b8",
   "metadata": {
    "ExecuteTime": {
     "end_time": "2021-07-25T11:42:26.119338Z",
     "start_time": "2021-07-25T11:42:26.017523Z"
    },
    "hidden": true
   },
   "outputs": [
    {
     "data": {
      "text/plain": [
       "Index(['date', 'open', 'high', 'low', 'close', 'volume', 'currency', 'symbol'], dtype='object')"
      ]
     },
     "execution_count": 5,
     "metadata": {},
     "output_type": "execute_result"
    }
   ],
   "source": [
    "# transforming name of columns to lower case\n",
    "dataset.columns = dataset.columns.str.lower()\n",
    "dataset.columns"
   ]
  },
  {
   "cell_type": "markdown",
   "id": "2db45ca7",
   "metadata": {
    "heading_collapsed": true
   },
   "source": [
    "# 3.0 - Data Cleaning"
   ]
  },
  {
   "cell_type": "markdown",
   "id": "f59b1503",
   "metadata": {
    "heading_collapsed": true,
    "hidden": true
   },
   "source": [
    "## 3.1 - Dimention and NaN"
   ]
  },
  {
   "cell_type": "code",
   "execution_count": 6,
   "id": "4accf79d",
   "metadata": {
    "ExecuteTime": {
     "end_time": "2021-07-25T11:42:26.370512Z",
     "start_time": "2021-07-25T11:42:26.120994Z"
    },
    "hidden": true
   },
   "outputs": [
    {
     "name": "stdout",
     "output_type": "stream",
     "text": [
      "959655 lines\n",
      "     8 Columns\n",
      "date        0\n",
      "open        0\n",
      "high        0\n",
      "low         0\n",
      "close       0\n",
      "volume      0\n",
      "currency    0\n",
      "symbol      0\n",
      "dtype: int64\n"
     ]
    }
   ],
   "source": [
    "# showing dimension and null values\n",
    "print(f'{dataset.shape[0]} lines\\n     {dataset.shape[1]} Columns')\n",
    "print(f'{dataset.isna().sum()}')"
   ]
  },
  {
   "cell_type": "markdown",
   "id": "90fc76cc",
   "metadata": {
    "hidden": true
   },
   "source": [
    "- Conclusion\n",
    "    - It's a almost 1 milion of lines, but it has a little columns, only 8 columns, the computing do it easly\n",
    "    - Dont's have no one null information, you mustn't clean them"
   ]
  },
  {
   "cell_type": "markdown",
   "id": "cc157c89",
   "metadata": {
    "heading_collapsed": true,
    "hidden": true
   },
   "source": [
    "## 3.2 - Data Type"
   ]
  },
  {
   "cell_type": "code",
   "execution_count": 7,
   "id": "adabd4d5",
   "metadata": {
    "ExecuteTime": {
     "end_time": "2021-07-25T11:42:26.403968Z",
     "start_time": "2021-07-25T11:42:26.380507Z"
    },
    "hidden": true
   },
   "outputs": [
    {
     "name": "stdout",
     "output_type": "stream",
     "text": [
      "Types of data:\n",
      "date        datetime64[ns]\n",
      "open               float64\n",
      "high               float64\n",
      "low                float64\n",
      "close              float64\n",
      "volume               int64\n",
      "currency            object\n",
      "symbol              object\n",
      "dtype: object\n"
     ]
    },
    {
     "data": {
      "text/html": [
       "<div>\n",
       "<style scoped>\n",
       "    .dataframe tbody tr th:only-of-type {\n",
       "        vertical-align: middle;\n",
       "    }\n",
       "\n",
       "    .dataframe tbody tr th {\n",
       "        vertical-align: top;\n",
       "    }\n",
       "\n",
       "    .dataframe thead th {\n",
       "        text-align: right;\n",
       "    }\n",
       "</style>\n",
       "<table border=\"1\" class=\"dataframe\">\n",
       "  <thead>\n",
       "    <tr style=\"text-align: right;\">\n",
       "      <th></th>\n",
       "      <th>date</th>\n",
       "      <th>open</th>\n",
       "      <th>high</th>\n",
       "      <th>low</th>\n",
       "      <th>close</th>\n",
       "      <th>volume</th>\n",
       "      <th>currency</th>\n",
       "      <th>symbol</th>\n",
       "    </tr>\n",
       "  </thead>\n",
       "  <tbody>\n",
       "    <tr>\n",
       "      <th>959650</th>\n",
       "      <td>2021-07-07</td>\n",
       "      <td>4.730</td>\n",
       "      <td>4.840</td>\n",
       "      <td>4.690</td>\n",
       "      <td>4.830</td>\n",
       "      <td>1399700</td>\n",
       "      <td>BRL</td>\n",
       "      <td>BMGB4</td>\n",
       "    </tr>\n",
       "    <tr>\n",
       "      <th>959651</th>\n",
       "      <td>2021-07-08</td>\n",
       "      <td>4.760</td>\n",
       "      <td>4.760</td>\n",
       "      <td>4.680</td>\n",
       "      <td>4.700</td>\n",
       "      <td>949100</td>\n",
       "      <td>BRL</td>\n",
       "      <td>BMGB4</td>\n",
       "    </tr>\n",
       "    <tr>\n",
       "      <th>959652</th>\n",
       "      <td>2021-07-12</td>\n",
       "      <td>4.740</td>\n",
       "      <td>4.860</td>\n",
       "      <td>4.710</td>\n",
       "      <td>4.840</td>\n",
       "      <td>1955700</td>\n",
       "      <td>BRL</td>\n",
       "      <td>BMGB4</td>\n",
       "    </tr>\n",
       "    <tr>\n",
       "      <th>959653</th>\n",
       "      <td>2021-07-13</td>\n",
       "      <td>4.840</td>\n",
       "      <td>4.900</td>\n",
       "      <td>4.750</td>\n",
       "      <td>4.890</td>\n",
       "      <td>1491600</td>\n",
       "      <td>BRL</td>\n",
       "      <td>BMGB4</td>\n",
       "    </tr>\n",
       "    <tr>\n",
       "      <th>959654</th>\n",
       "      <td>2021-07-14</td>\n",
       "      <td>4.890</td>\n",
       "      <td>4.910</td>\n",
       "      <td>4.830</td>\n",
       "      <td>4.860</td>\n",
       "      <td>333100</td>\n",
       "      <td>BRL</td>\n",
       "      <td>BMGB4</td>\n",
       "    </tr>\n",
       "  </tbody>\n",
       "</table>\n",
       "</div>"
      ],
      "text/plain": [
       "             date  open  high   low  close   volume currency symbol\n",
       "959650 2021-07-07 4.730 4.840 4.690  4.830  1399700      BRL  BMGB4\n",
       "959651 2021-07-08 4.760 4.760 4.680  4.700   949100      BRL  BMGB4\n",
       "959652 2021-07-12 4.740 4.860 4.710  4.840  1955700      BRL  BMGB4\n",
       "959653 2021-07-13 4.840 4.900 4.750  4.890  1491600      BRL  BMGB4\n",
       "959654 2021-07-14 4.890 4.910 4.830  4.860   333100      BRL  BMGB4"
      ]
     },
     "execution_count": 7,
     "metadata": {},
     "output_type": "execute_result"
    }
   ],
   "source": [
    "print(f'Types of data:\\n{dataset.dtypes}')\n",
    "dataset.tail()"
   ]
  },
  {
   "cell_type": "markdown",
   "id": "573ec96b",
   "metadata": {
    "hidden": true
   },
   "source": [
    "- Conclusion\n",
    "    - It's all datatype ok"
   ]
  },
  {
   "cell_type": "markdown",
   "id": "decef06f",
   "metadata": {
    "heading_collapsed": true,
    "hidden": true
   },
   "source": [
    "## 3.3 - Descriptive Statistics"
   ]
  },
  {
   "cell_type": "code",
   "execution_count": 8,
   "id": "03f492c7",
   "metadata": {
    "ExecuteTime": {
     "end_time": "2021-07-25T11:42:27.307615Z",
     "start_time": "2021-07-25T11:42:26.407306Z"
    },
    "hidden": true
   },
   "outputs": [
    {
     "data": {
      "text/html": [
       "<div>\n",
       "<style scoped>\n",
       "    .dataframe tbody tr th:only-of-type {\n",
       "        vertical-align: middle;\n",
       "    }\n",
       "\n",
       "    .dataframe tbody tr th {\n",
       "        vertical-align: top;\n",
       "    }\n",
       "\n",
       "    .dataframe thead th {\n",
       "        text-align: right;\n",
       "    }\n",
       "</style>\n",
       "<table border=\"1\" class=\"dataframe\">\n",
       "  <thead>\n",
       "    <tr style=\"text-align: right;\">\n",
       "      <th></th>\n",
       "      <th>count</th>\n",
       "      <th>unique</th>\n",
       "      <th>top</th>\n",
       "      <th>freq</th>\n",
       "      <th>mean</th>\n",
       "      <th>min</th>\n",
       "      <th>25%</th>\n",
       "      <th>50%</th>\n",
       "      <th>75%</th>\n",
       "      <th>max</th>\n",
       "      <th>std</th>\n",
       "    </tr>\n",
       "  </thead>\n",
       "  <tbody>\n",
       "    <tr>\n",
       "      <th>date</th>\n",
       "      <td>959655</td>\n",
       "      <td>NaN</td>\n",
       "      <td>NaN</td>\n",
       "      <td>NaN</td>\n",
       "      <td>2013-05-15 07:21:12.123419648</td>\n",
       "      <td>1995-01-02 00:00:00</td>\n",
       "      <td>2009-06-10 00:00:00</td>\n",
       "      <td>2014-07-25 00:00:00</td>\n",
       "      <td>2018-05-18 00:00:00</td>\n",
       "      <td>2021-07-14 00:00:00</td>\n",
       "      <td>NaN</td>\n",
       "    </tr>\n",
       "    <tr>\n",
       "      <th>open</th>\n",
       "      <td>959655.000</td>\n",
       "      <td>NaN</td>\n",
       "      <td>NaN</td>\n",
       "      <td>NaN</td>\n",
       "      <td>29.709</td>\n",
       "      <td>0.000</td>\n",
       "      <td>3.900</td>\n",
       "      <td>9.120</td>\n",
       "      <td>18.320</td>\n",
       "      <td>84410.360</td>\n",
       "      <td>346.521</td>\n",
       "    </tr>\n",
       "    <tr>\n",
       "      <th>high</th>\n",
       "      <td>959655.000</td>\n",
       "      <td>NaN</td>\n",
       "      <td>NaN</td>\n",
       "      <td>NaN</td>\n",
       "      <td>30.156</td>\n",
       "      <td>0.000</td>\n",
       "      <td>3.990</td>\n",
       "      <td>9.280</td>\n",
       "      <td>18.640</td>\n",
       "      <td>20200.390</td>\n",
       "      <td>342.037</td>\n",
       "    </tr>\n",
       "    <tr>\n",
       "      <th>low</th>\n",
       "      <td>959655.000</td>\n",
       "      <td>NaN</td>\n",
       "      <td>NaN</td>\n",
       "      <td>NaN</td>\n",
       "      <td>28.990</td>\n",
       "      <td>0.000</td>\n",
       "      <td>3.820</td>\n",
       "      <td>8.950</td>\n",
       "      <td>17.990</td>\n",
       "      <td>19468.930</td>\n",
       "      <td>326.774</td>\n",
       "    </tr>\n",
       "    <tr>\n",
       "      <th>close</th>\n",
       "      <td>959655.000</td>\n",
       "      <td>NaN</td>\n",
       "      <td>NaN</td>\n",
       "      <td>NaN</td>\n",
       "      <td>29.573</td>\n",
       "      <td>0.000</td>\n",
       "      <td>3.900</td>\n",
       "      <td>9.110</td>\n",
       "      <td>18.310</td>\n",
       "      <td>20157.870</td>\n",
       "      <td>334.334</td>\n",
       "    </tr>\n",
       "    <tr>\n",
       "      <th>volume</th>\n",
       "      <td>959655.000</td>\n",
       "      <td>NaN</td>\n",
       "      <td>NaN</td>\n",
       "      <td>NaN</td>\n",
       "      <td>12633708.334</td>\n",
       "      <td>0.000</td>\n",
       "      <td>11900.000</td>\n",
       "      <td>203418.000</td>\n",
       "      <td>1477400.000</td>\n",
       "      <td>77548822528.000</td>\n",
       "      <td>347732917.884</td>\n",
       "    </tr>\n",
       "    <tr>\n",
       "      <th>currency</th>\n",
       "      <td>959655</td>\n",
       "      <td>1</td>\n",
       "      <td>BRL</td>\n",
       "      <td>959655</td>\n",
       "      <td>NaN</td>\n",
       "      <td>NaN</td>\n",
       "      <td>NaN</td>\n",
       "      <td>NaN</td>\n",
       "      <td>NaN</td>\n",
       "      <td>NaN</td>\n",
       "      <td>NaN</td>\n",
       "    </tr>\n",
       "    <tr>\n",
       "      <th>symbol</th>\n",
       "      <td>959655</td>\n",
       "      <td>374</td>\n",
       "      <td>BBDC3</td>\n",
       "      <td>13040</td>\n",
       "      <td>NaN</td>\n",
       "      <td>NaN</td>\n",
       "      <td>NaN</td>\n",
       "      <td>NaN</td>\n",
       "      <td>NaN</td>\n",
       "      <td>NaN</td>\n",
       "      <td>NaN</td>\n",
       "    </tr>\n",
       "  </tbody>\n",
       "</table>\n",
       "</div>"
      ],
      "text/plain": [
       "              count unique    top    freq                           mean                  min                  25%                  50%                  75%                  max           std\n",
       "date         959655    NaN    NaN     NaN  2013-05-15 07:21:12.123419648  1995-01-02 00:00:00  2009-06-10 00:00:00  2014-07-25 00:00:00  2018-05-18 00:00:00  2021-07-14 00:00:00           NaN\n",
       "open     959655.000    NaN    NaN     NaN                         29.709                0.000                3.900                9.120               18.320            84410.360       346.521\n",
       "high     959655.000    NaN    NaN     NaN                         30.156                0.000                3.990                9.280               18.640            20200.390       342.037\n",
       "low      959655.000    NaN    NaN     NaN                         28.990                0.000                3.820                8.950               17.990            19468.930       326.774\n",
       "close    959655.000    NaN    NaN     NaN                         29.573                0.000                3.900                9.110               18.310            20157.870       334.334\n",
       "volume   959655.000    NaN    NaN     NaN                   12633708.334                0.000            11900.000           203418.000          1477400.000      77548822528.000 347732917.884\n",
       "currency     959655      1    BRL  959655                            NaN                  NaN                  NaN                  NaN                  NaN                  NaN           NaN\n",
       "symbol       959655    374  BBDC3   13040                            NaN                  NaN                  NaN                  NaN                  NaN                  NaN           NaN"
      ]
     },
     "execution_count": 8,
     "metadata": {},
     "output_type": "execute_result"
    }
   ],
   "source": [
    "dataset.describe(include=\"all\", datetime_is_numeric=True).T"
   ]
  },
  {
   "cell_type": "markdown",
   "id": "d756dd26",
   "metadata": {
    "hidden": true
   },
   "source": [
    "Points of view\n",
    "\n",
    "- there are a price values equal zero \"0\"\n",
    "    - ✅ dropped 8 registers equal zero\n",
    "- there are a volume egual zero\n",
    "    - ⚠️ not solved, left to another cycle\n",
    "- there are a highest price per stock in \"max\" with 20 thousand, is it correct?"
   ]
  },
  {
   "cell_type": "markdown",
   "id": "3db8942b",
   "metadata": {
    "heading_collapsed": true,
    "hidden": true
   },
   "source": [
    "### 3.3.1 - Price equal zero"
   ]
  },
  {
   "cell_type": "code",
   "execution_count": 9,
   "id": "271aeb38",
   "metadata": {
    "ExecuteTime": {
     "end_time": "2021-07-25T11:42:34.545150Z",
     "start_time": "2021-07-25T11:42:27.312587Z"
    },
    "hidden": true
   },
   "outputs": [
    {
     "data": {
      "text/html": [
       "<div>\n",
       "<style scoped>\n",
       "    .dataframe tbody tr th:only-of-type {\n",
       "        vertical-align: middle;\n",
       "    }\n",
       "\n",
       "    .dataframe tbody tr th {\n",
       "        vertical-align: top;\n",
       "    }\n",
       "\n",
       "    .dataframe thead th {\n",
       "        text-align: right;\n",
       "    }\n",
       "</style>\n",
       "<table border=\"1\" class=\"dataframe\">\n",
       "  <thead>\n",
       "    <tr style=\"text-align: right;\">\n",
       "      <th></th>\n",
       "      <th>weekday</th>\n",
       "      <th>date</th>\n",
       "      <th>open</th>\n",
       "      <th>high</th>\n",
       "      <th>low</th>\n",
       "      <th>close</th>\n",
       "      <th>volume</th>\n",
       "      <th>currency</th>\n",
       "      <th>symbol</th>\n",
       "    </tr>\n",
       "  </thead>\n",
       "  <tbody>\n",
       "    <tr>\n",
       "      <th>0</th>\n",
       "      <td>Friday</td>\n",
       "      <td>1995-01-06</td>\n",
       "      <td>0.000</td>\n",
       "      <td>0.000</td>\n",
       "      <td>0.000</td>\n",
       "      <td>0.000</td>\n",
       "      <td>0</td>\n",
       "      <td>BRL</td>\n",
       "      <td>AALR3</td>\n",
       "    </tr>\n",
       "    <tr>\n",
       "      <th>1</th>\n",
       "      <td>Monday</td>\n",
       "      <td>1995-01-02</td>\n",
       "      <td>0.010</td>\n",
       "      <td>0.010</td>\n",
       "      <td>0.010</td>\n",
       "      <td>0.010</td>\n",
       "      <td>0</td>\n",
       "      <td>BRL</td>\n",
       "      <td>AALR3</td>\n",
       "    </tr>\n",
       "    <tr>\n",
       "      <th>2</th>\n",
       "      <td>Thursday</td>\n",
       "      <td>1995-01-05</td>\n",
       "      <td>0.000</td>\n",
       "      <td>0.000</td>\n",
       "      <td>0.000</td>\n",
       "      <td>0.000</td>\n",
       "      <td>0</td>\n",
       "      <td>BRL</td>\n",
       "      <td>AALR3</td>\n",
       "    </tr>\n",
       "    <tr>\n",
       "      <th>3</th>\n",
       "      <td>Tuesday</td>\n",
       "      <td>1995-01-03</td>\n",
       "      <td>0.010</td>\n",
       "      <td>0.010</td>\n",
       "      <td>0.010</td>\n",
       "      <td>0.010</td>\n",
       "      <td>0</td>\n",
       "      <td>BRL</td>\n",
       "      <td>AALR3</td>\n",
       "    </tr>\n",
       "    <tr>\n",
       "      <th>4</th>\n",
       "      <td>Wednesday</td>\n",
       "      <td>1995-01-04</td>\n",
       "      <td>0.000</td>\n",
       "      <td>0.000</td>\n",
       "      <td>0.000</td>\n",
       "      <td>0.000</td>\n",
       "      <td>0</td>\n",
       "      <td>BRL</td>\n",
       "      <td>AALR3</td>\n",
       "    </tr>\n",
       "  </tbody>\n",
       "</table>\n",
       "</div>"
      ],
      "text/plain": [
       "     weekday       date  open  high   low  close  volume currency symbol\n",
       "0     Friday 1995-01-06 0.000 0.000 0.000  0.000       0      BRL  AALR3\n",
       "1     Monday 1995-01-02 0.010 0.010 0.010  0.010       0      BRL  AALR3\n",
       "2   Thursday 1995-01-05 0.000 0.000 0.000  0.000       0      BRL  AALR3\n",
       "3    Tuesday 1995-01-03 0.010 0.010 0.010  0.010       0      BRL  AALR3\n",
       "4  Wednesday 1995-01-04 0.000 0.000 0.000  0.000       0      BRL  AALR3"
      ]
     },
     "execution_count": 9,
     "metadata": {},
     "output_type": "execute_result"
    }
   ],
   "source": [
    "# zero cotation\n",
    "# getting the name of week in each day\n",
    "dataset.loc[:, 'weekday'] = dataset.loc[:, 'date'].apply(lambda x: x.strftime('%A'))\n",
    "# seeing the minimum value groupby day of week\n",
    "dataset.groupby(by=['weekday']).min().reset_index()"
   ]
  },
  {
   "cell_type": "code",
   "execution_count": 10,
   "id": "64975b3a",
   "metadata": {
    "ExecuteTime": {
     "end_time": "2021-07-25T11:42:36.111362Z",
     "start_time": "2021-07-25T11:42:34.549838Z"
    },
    "hidden": true
   },
   "outputs": [
    {
     "name": "stdout",
     "output_type": "stream",
     "text": [
      "8 registers deleted\n"
     ]
    }
   ],
   "source": [
    "# dropping lines with price equal zero\n",
    "print(f\"{dataset[dataset['close'] == 0].shape[0]} registers deleted\")\n",
    "dataset.drop(dataset[dataset['close'] == 0].index, axis=0, inplace=True)"
   ]
  },
  {
   "cell_type": "markdown",
   "id": "5646a73a",
   "metadata": {
    "heading_collapsed": true,
    "hidden": true
   },
   "source": [
    "### 3.3.2 - Operation volume equal zero"
   ]
  },
  {
   "cell_type": "code",
   "execution_count": 11,
   "id": "e9b61aac",
   "metadata": {
    "ExecuteTime": {
     "end_time": "2021-07-25T11:42:36.934080Z",
     "start_time": "2021-07-25T11:42:36.114681Z"
    },
    "hidden": true
   },
   "outputs": [
    {
     "data": {
      "text/html": [
       "<div>\n",
       "<style scoped>\n",
       "    .dataframe tbody tr th:only-of-type {\n",
       "        vertical-align: middle;\n",
       "    }\n",
       "\n",
       "    .dataframe tbody tr th {\n",
       "        vertical-align: top;\n",
       "    }\n",
       "\n",
       "    .dataframe thead th {\n",
       "        text-align: right;\n",
       "    }\n",
       "</style>\n",
       "<table border=\"1\" class=\"dataframe\">\n",
       "  <thead>\n",
       "    <tr style=\"text-align: right;\">\n",
       "      <th></th>\n",
       "      <th>date</th>\n",
       "      <th>open</th>\n",
       "      <th>high</th>\n",
       "      <th>low</th>\n",
       "      <th>close</th>\n",
       "      <th>volume</th>\n",
       "      <th>currency</th>\n",
       "      <th>symbol</th>\n",
       "      <th>weekday</th>\n",
       "    </tr>\n",
       "    <tr>\n",
       "      <th>year</th>\n",
       "      <th></th>\n",
       "      <th></th>\n",
       "      <th></th>\n",
       "      <th></th>\n",
       "      <th></th>\n",
       "      <th></th>\n",
       "      <th></th>\n",
       "      <th></th>\n",
       "      <th></th>\n",
       "    </tr>\n",
       "  </thead>\n",
       "  <tbody>\n",
       "    <tr>\n",
       "      <th>1995</th>\n",
       "      <td>280</td>\n",
       "      <td>280</td>\n",
       "      <td>280</td>\n",
       "      <td>280</td>\n",
       "      <td>280</td>\n",
       "      <td>280</td>\n",
       "      <td>280</td>\n",
       "      <td>280</td>\n",
       "      <td>280</td>\n",
       "    </tr>\n",
       "    <tr>\n",
       "      <th>1996</th>\n",
       "      <td>385</td>\n",
       "      <td>385</td>\n",
       "      <td>385</td>\n",
       "      <td>385</td>\n",
       "      <td>385</td>\n",
       "      <td>385</td>\n",
       "      <td>385</td>\n",
       "      <td>385</td>\n",
       "      <td>385</td>\n",
       "    </tr>\n",
       "    <tr>\n",
       "      <th>1997</th>\n",
       "      <td>353</td>\n",
       "      <td>353</td>\n",
       "      <td>353</td>\n",
       "      <td>353</td>\n",
       "      <td>353</td>\n",
       "      <td>353</td>\n",
       "      <td>353</td>\n",
       "      <td>353</td>\n",
       "      <td>353</td>\n",
       "    </tr>\n",
       "    <tr>\n",
       "      <th>1998</th>\n",
       "      <td>225</td>\n",
       "      <td>225</td>\n",
       "      <td>225</td>\n",
       "      <td>225</td>\n",
       "      <td>225</td>\n",
       "      <td>225</td>\n",
       "      <td>225</td>\n",
       "      <td>225</td>\n",
       "      <td>225</td>\n",
       "    </tr>\n",
       "    <tr>\n",
       "      <th>1999</th>\n",
       "      <td>301</td>\n",
       "      <td>301</td>\n",
       "      <td>301</td>\n",
       "      <td>301</td>\n",
       "      <td>301</td>\n",
       "      <td>301</td>\n",
       "      <td>301</td>\n",
       "      <td>301</td>\n",
       "      <td>301</td>\n",
       "    </tr>\n",
       "  </tbody>\n",
       "</table>\n",
       "</div>"
      ],
      "text/plain": [
       "      date  open  high  low  close  volume  currency  symbol  weekday\n",
       "year                                                                 \n",
       "1995   280   280   280  280    280     280       280     280      280\n",
       "1996   385   385   385  385    385     385       385     385      385\n",
       "1997   353   353   353  353    353     353       353     353      353\n",
       "1998   225   225   225  225    225     225       225     225      225\n",
       "1999   301   301   301  301    301     301       301     301      301"
      ]
     },
     "execution_count": 11,
     "metadata": {},
     "output_type": "execute_result"
    }
   ],
   "source": [
    "# getting year from date and create a new columns called year\n",
    "dataset.loc[:, 'year'] = dataset.loc[:, 'date'].dt.year\n",
    "dataset.loc[dataset[dataset['volume'] == 0].index].groupby(['year']).count().head()"
   ]
  },
  {
   "cell_type": "markdown",
   "id": "d5a74d3a",
   "metadata": {
    "ExecuteTime": {
     "end_time": "2021-07-19T14:14:20.613052Z",
     "start_time": "2021-07-19T14:14:20.241674Z"
    },
    "hidden": true
   },
   "source": [
    "We Left this step to other cycle"
   ]
  },
  {
   "cell_type": "markdown",
   "id": "ca166f3a",
   "metadata": {
    "heading_collapsed": true,
    "hidden": true
   },
   "source": [
    "### 3.3.3 - Highest price per stock"
   ]
  },
  {
   "cell_type": "code",
   "execution_count": 12,
   "id": "43dd8920",
   "metadata": {
    "ExecuteTime": {
     "end_time": "2021-07-25T11:42:38.405799Z",
     "start_time": "2021-07-25T11:42:36.937177Z"
    },
    "hidden": true
   },
   "outputs": [
    {
     "data": {
      "text/html": [
       "<div>\n",
       "<style scoped>\n",
       "    .dataframe tbody tr th:only-of-type {\n",
       "        vertical-align: middle;\n",
       "    }\n",
       "\n",
       "    .dataframe tbody tr th {\n",
       "        vertical-align: top;\n",
       "    }\n",
       "\n",
       "    .dataframe thead th {\n",
       "        text-align: right;\n",
       "    }\n",
       "</style>\n",
       "<table border=\"1\" class=\"dataframe\">\n",
       "  <thead>\n",
       "    <tr style=\"text-align: right;\">\n",
       "      <th></th>\n",
       "      <th>date</th>\n",
       "      <th>open</th>\n",
       "      <th>high</th>\n",
       "      <th>low</th>\n",
       "      <th>close</th>\n",
       "      <th>volume</th>\n",
       "      <th>currency</th>\n",
       "      <th>symbol</th>\n",
       "      <th>weekday</th>\n",
       "      <th>year</th>\n",
       "    </tr>\n",
       "  </thead>\n",
       "  <tbody>\n",
       "    <tr>\n",
       "      <th>681341</th>\n",
       "      <td>2007-07-23</td>\n",
       "      <td>19562.490</td>\n",
       "      <td>20157.870</td>\n",
       "      <td>19400.880</td>\n",
       "      <td>20157.870</td>\n",
       "      <td>430</td>\n",
       "      <td>BRL</td>\n",
       "      <td>VIVR3</td>\n",
       "      <td>Monday</td>\n",
       "      <td>2007</td>\n",
       "    </tr>\n",
       "    <tr>\n",
       "      <th>681396</th>\n",
       "      <td>2007-10-09</td>\n",
       "      <td>19562.490</td>\n",
       "      <td>19945.230</td>\n",
       "      <td>19468.930</td>\n",
       "      <td>19945.230</td>\n",
       "      <td>531</td>\n",
       "      <td>BRL</td>\n",
       "      <td>VIVR3</td>\n",
       "      <td>Tuesday</td>\n",
       "      <td>2007</td>\n",
       "    </tr>\n",
       "    <tr>\n",
       "      <th>681340</th>\n",
       "      <td>2007-07-20</td>\n",
       "      <td>19766.620</td>\n",
       "      <td>19775.120</td>\n",
       "      <td>19052.160</td>\n",
       "      <td>19732.600</td>\n",
       "      <td>670</td>\n",
       "      <td>BRL</td>\n",
       "      <td>VIVR3</td>\n",
       "      <td>Friday</td>\n",
       "      <td>2007</td>\n",
       "    </tr>\n",
       "    <tr>\n",
       "      <th>681339</th>\n",
       "      <td>2007-07-19</td>\n",
       "      <td>18924.580</td>\n",
       "      <td>19775.120</td>\n",
       "      <td>18882.050</td>\n",
       "      <td>19562.490</td>\n",
       "      <td>847</td>\n",
       "      <td>BRL</td>\n",
       "      <td>VIVR3</td>\n",
       "      <td>Thursday</td>\n",
       "      <td>2007</td>\n",
       "    </tr>\n",
       "    <tr>\n",
       "      <th>681342</th>\n",
       "      <td>2007-07-24</td>\n",
       "      <td>20200.390</td>\n",
       "      <td>20200.390</td>\n",
       "      <td>19392.380</td>\n",
       "      <td>19562.490</td>\n",
       "      <td>585</td>\n",
       "      <td>BRL</td>\n",
       "      <td>VIVR3</td>\n",
       "      <td>Tuesday</td>\n",
       "      <td>2007</td>\n",
       "    </tr>\n",
       "  </tbody>\n",
       "</table>\n",
       "</div>"
      ],
      "text/plain": [
       "             date      open      high       low     close  volume currency symbol   weekday  year\n",
       "681341 2007-07-23 19562.490 20157.870 19400.880 20157.870     430      BRL  VIVR3    Monday  2007\n",
       "681396 2007-10-09 19562.490 19945.230 19468.930 19945.230     531      BRL  VIVR3   Tuesday  2007\n",
       "681340 2007-07-20 19766.620 19775.120 19052.160 19732.600     670      BRL  VIVR3    Friday  2007\n",
       "681339 2007-07-19 18924.580 19775.120 18882.050 19562.490     847      BRL  VIVR3  Thursday  2007\n",
       "681342 2007-07-24 20200.390 20200.390 19392.380 19562.490     585      BRL  VIVR3   Tuesday  2007"
      ]
     },
     "execution_count": 12,
     "metadata": {},
     "output_type": "execute_result"
    }
   ],
   "source": [
    "# getting value of the hightes register to see in the internet to validation value\n",
    "dataset.sort_values(by='close', ascending=False).head()"
   ]
  },
  {
   "cell_type": "markdown",
   "id": "141f6c91",
   "metadata": {
    "ExecuteTime": {
     "end_time": "2021-07-19T15:10:22.807914Z",
     "start_time": "2021-07-19T15:10:22.799181Z"
    },
    "hidden": true
   },
   "source": [
    "There are inconsistence with values between sites and APIs, wicth is confiable?"
   ]
  },
  {
   "cell_type": "markdown",
   "id": "ed7a0609",
   "metadata": {
    "ExecuteTime": {
     "end_time": "2021-07-19T21:01:38.563531Z",
     "start_time": "2021-07-19T21:01:38.559272Z"
    },
    "hidden": true
   },
   "source": [
    "<!-- We will let this for the next cycle -->"
   ]
  },
  {
   "cell_type": "markdown",
   "id": "f12dc39a",
   "metadata": {
    "heading_collapsed": true
   },
   "source": [
    "# 4.0 - Data Engineering"
   ]
  },
  {
   "cell_type": "code",
   "execution_count": 13,
   "id": "494d6702",
   "metadata": {
    "ExecuteTime": {
     "end_time": "2021-07-25T11:43:08.171393Z",
     "start_time": "2021-07-25T11:42:38.407845Z"
    },
    "hidden": true
   },
   "outputs": [
    {
     "name": "stderr",
     "output_type": "stream",
     "text": [
      "/tmp/ipykernel_5829/1415303623.py:4: FutureWarning: Series.dt.weekofyear and Series.dt.week have been deprecated.  Please use Series.dt.isocalendar().week instead.\n",
      "  dataset.loc[:, 'week_of_year'] = dataset.loc[:, 'date'].dt.week\n"
     ]
    }
   ],
   "source": [
    "# Creating some features:\n",
    "# year, week_of_year, day_of_week, day, growth_close\n",
    "dataset.loc[:, 'year']  = dataset.loc[:, 'date'].dt.year\n",
    "dataset.loc[:, 'week_of_year'] = dataset.loc[:, 'date'].dt.week\n",
    "dataset.loc[:, 'day_of_week'] = dataset.loc[:, 'date'].dt.dayofweek\n",
    "dataset.loc[:, 'day'] = dataset.loc[:, 'date'].dt.day\n",
    "#dataset.loc[:, 'holiday'] = dataset.loc[:, 'date'] - next cycle\n",
    "\n",
    "# getting a list of index\n",
    "list_index = dataset['date'].index\n",
    "growth_price = list()\n",
    "# looping to calculating each actual day with one day before and adding to list\n",
    "for index_item in list_index:\n",
    "    try:\n",
    "        actual_price = dataset.loc[index_item, 'close']\n",
    "        day_before_price = dataset.loc[index_item-1, 'close']\n",
    "        growth_price.append((((actual_price - day_before_price)/day_before_price)*100).round(4))\n",
    "    except:\n",
    "        growth_price.append(0)\n",
    "dataset.loc[:, 'growth_price'] = growth_price\n",
    "\n",
    "# sma = Simple Moving Average\n",
    "dataset.loc[:, 'sma'] = dataset['close'].rolling(7).mean()"
   ]
  },
  {
   "cell_type": "markdown",
   "id": "acfbf49b",
   "metadata": {
    "hidden": true
   },
   "source": [
    "Tomorrow I will solve the issue above about isocalendar 👆"
   ]
  },
  {
   "cell_type": "markdown",
   "id": "3f24d845",
   "metadata": {
    "heading_collapsed": true
   },
   "source": [
    "# 5.0 - Hyphotesis"
   ]
  },
  {
   "cell_type": "markdown",
   "id": "ec93a199",
   "metadata": {
    "heading_collapsed": true,
    "hidden": true
   },
   "source": [
    "## 5.1 - Ranking"
   ]
  },
  {
   "cell_type": "code",
   "execution_count": 14,
   "id": "61c63b50",
   "metadata": {
    "ExecuteTime": {
     "end_time": "2021-07-25T11:43:08.229156Z",
     "start_time": "2021-07-25T11:43:08.173697Z"
    },
    "hidden": true
   },
   "outputs": [],
   "source": [
    "range_date = '2020-04-01'\n",
    "dataset_pandemic = dataset[dataset['date'] >= range_date]"
   ]
  },
  {
   "cell_type": "code",
   "execution_count": 15,
   "id": "102cf239",
   "metadata": {
    "ExecuteTime": {
     "end_time": "2021-07-25T11:43:08.822543Z",
     "start_time": "2021-07-25T11:43:08.231027Z"
    },
    "hidden": true
   },
   "outputs": [
    {
     "data": {
      "text/html": [
       "<div>\n",
       "<style scoped>\n",
       "    .dataframe tbody tr th:only-of-type {\n",
       "        vertical-align: middle;\n",
       "    }\n",
       "\n",
       "    .dataframe tbody tr th {\n",
       "        vertical-align: top;\n",
       "    }\n",
       "\n",
       "    .dataframe thead th {\n",
       "        text-align: right;\n",
       "    }\n",
       "</style>\n",
       "<table border=\"1\" class=\"dataframe\">\n",
       "  <thead>\n",
       "    <tr style=\"text-align: right;\">\n",
       "      <th></th>\n",
       "      <th>open</th>\n",
       "      <th>high</th>\n",
       "      <th>low</th>\n",
       "      <th>close</th>\n",
       "      <th>volume</th>\n",
       "      <th>year</th>\n",
       "      <th>week_of_year</th>\n",
       "      <th>day_of_week</th>\n",
       "      <th>day</th>\n",
       "      <th>growth_price</th>\n",
       "      <th>sma</th>\n",
       "    </tr>\n",
       "    <tr>\n",
       "      <th>symbol</th>\n",
       "      <th></th>\n",
       "      <th></th>\n",
       "      <th></th>\n",
       "      <th></th>\n",
       "      <th></th>\n",
       "      <th></th>\n",
       "      <th></th>\n",
       "      <th></th>\n",
       "      <th></th>\n",
       "      <th></th>\n",
       "      <th></th>\n",
       "    </tr>\n",
       "  </thead>\n",
       "  <tbody>\n",
       "    <tr>\n",
       "      <th>MMXM3</th>\n",
       "      <td>2968.820</td>\n",
       "      <td>3188.480</td>\n",
       "      <td>2772.250</td>\n",
       "      <td>2943.250</td>\n",
       "      <td>86113400</td>\n",
       "      <td>565693</td>\n",
       "      <td>7227</td>\n",
       "      <td>559</td>\n",
       "      <td>4329</td>\n",
       "      <td>567.484</td>\n",
       "      <td>2896.619</td>\n",
       "    </tr>\n",
       "    <tr>\n",
       "      <th>HBTS5</th>\n",
       "      <td>4941.300</td>\n",
       "      <td>5161.830</td>\n",
       "      <td>4784.750</td>\n",
       "      <td>4978.580</td>\n",
       "      <td>447600</td>\n",
       "      <td>355596</td>\n",
       "      <td>4701</td>\n",
       "      <td>353</td>\n",
       "      <td>2646</td>\n",
       "      <td>491.968</td>\n",
       "      <td>4815.461</td>\n",
       "    </tr>\n",
       "    <tr>\n",
       "      <th>BSLI4</th>\n",
       "      <td>4136.330</td>\n",
       "      <td>4312.550</td>\n",
       "      <td>3993.940</td>\n",
       "      <td>4135.220</td>\n",
       "      <td>331900</td>\n",
       "      <td>244533</td>\n",
       "      <td>2007</td>\n",
       "      <td>230</td>\n",
       "      <td>1795</td>\n",
       "      <td>372.760</td>\n",
       "      <td>4074.836</td>\n",
       "    </tr>\n",
       "    <tr>\n",
       "      <th>AZEV3</th>\n",
       "      <td>1415.780</td>\n",
       "      <td>1479.170</td>\n",
       "      <td>1355.640</td>\n",
       "      <td>1407.480</td>\n",
       "      <td>36367484</td>\n",
       "      <td>638451</td>\n",
       "      <td>8066</td>\n",
       "      <td>628</td>\n",
       "      <td>4901</td>\n",
       "      <td>349.840</td>\n",
       "      <td>1390.250</td>\n",
       "    </tr>\n",
       "    <tr>\n",
       "      <th>MWET4</th>\n",
       "      <td>2420.970</td>\n",
       "      <td>2565.650</td>\n",
       "      <td>2315.340</td>\n",
       "      <td>2430.050</td>\n",
       "      <td>9677000</td>\n",
       "      <td>618251</td>\n",
       "      <td>7946</td>\n",
       "      <td>606</td>\n",
       "      <td>4813</td>\n",
       "      <td>334.524</td>\n",
       "      <td>2333.393</td>\n",
       "    </tr>\n",
       "  </tbody>\n",
       "</table>\n",
       "</div>"
      ],
      "text/plain": [
       "           open     high      low    close    volume    year  week_of_year  day_of_week   day  growth_price      sma\n",
       "symbol                                                                                                              \n",
       "MMXM3  2968.820 3188.480 2772.250 2943.250  86113400  565693          7227          559  4329       567.484 2896.619\n",
       "HBTS5  4941.300 5161.830 4784.750 4978.580    447600  355596          4701          353  2646       491.968 4815.461\n",
       "BSLI4  4136.330 4312.550 3993.940 4135.220    331900  244533          2007          230  1795       372.760 4074.836\n",
       "AZEV3  1415.780 1479.170 1355.640 1407.480  36367484  638451          8066          628  4901       349.840 1390.250\n",
       "MWET4  2420.970 2565.650 2315.340 2430.050   9677000  618251          7946          606  4813       334.524 2333.393"
      ]
     },
     "execution_count": 15,
     "metadata": {},
     "output_type": "execute_result"
    }
   ],
   "source": [
    "dataset_pandemic.groupby(by=['symbol']).sum().sort_values(by='growth_price', ascending=False).head()"
   ]
  },
  {
   "cell_type": "code",
   "execution_count": 16,
   "id": "64b88ef9",
   "metadata": {
    "ExecuteTime": {
     "end_time": "2021-07-25T11:43:09.867562Z",
     "start_time": "2021-07-25T11:43:08.825553Z"
    },
    "hidden": true
   },
   "outputs": [
    {
     "data": {
      "text/plain": [
       "<AxesSubplot:>"
      ]
     },
     "execution_count": 16,
     "metadata": {},
     "output_type": "execute_result"
    },
    {
     "data": {
      "image/png": "[encoded data removed]",
      "text/plain": [
       "<Figure size 1800x864 with 1 Axes>"
      ]
     },
     "metadata": {},
     "output_type": "display_data"
    }
   ],
   "source": [
    "dataset_pandemic[dataset_pandemic['symbol'] == 'MMXM3']['close'].plot()"
   ]
  },
  {
   "cell_type": "code",
   "execution_count": 17,
   "id": "b08c0f15",
   "metadata": {
    "ExecuteTime": {
     "end_time": "2021-07-25T11:43:10.139263Z",
     "start_time": "2021-07-25T11:43:09.869317Z"
    },
    "hidden": true
   },
   "outputs": [
    {
     "data": {
      "text/plain": [
       "<AxesSubplot:>"
      ]
     },
     "execution_count": 17,
     "metadata": {},
     "output_type": "execute_result"
    },
    {
     "data": {
      "image/png": "[encoded data removed]",
      "text/plain": [
       "<Figure size 1800x864 with 1 Axes>"
      ]
     },
     "metadata": {},
     "output_type": "display_data"
    }
   ],
   "source": [
    "dataset_pandemic[dataset_pandemic['symbol'] == 'HBTS5']['close'].plot()"
   ]
  },
  {
   "cell_type": "markdown",
   "id": "bef125dd",
   "metadata": {
    "hidden": true
   },
   "source": [
    "The two first analysis"
   ]
  },
  {
   "cell_type": "markdown",
   "id": "52fc5515",
   "metadata": {
    "hidden": true
   },
   "source": [
    "- MMXM3 -> Diego\n",
    "- HBTS5 -> Guilherme"
   ]
  }
 ],
 "metadata": {
  "kernelspec": {
   "display_name": "Python 3",
   "language": "python",
   "name": "python3"
  },
  "language_info": {
   "codemirror_mode": {
    "name": "ipython",
    "version": 3
   },
   "file_extension": ".py",
   "mimetype": "text/x-python",
   "name": "python",
   "nbconvert_exporter": "python",
   "pygments_lexer": "ipython3",
   "version": "3.9.5"
  }
 },
 "nbformat": 4,
 "nbformat_minor": 5
}
