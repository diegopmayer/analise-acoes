{
 "cells": [
  {
   "cell_type": "markdown",
   "id": "962a0156",
   "metadata": {},
   "source": [
    "# 1.0 - Packages"
   ]
  },
  {
   "cell_type": "markdown",
   "id": "c3c8f166",
   "metadata": {},
   "source": [
    "## 1.1 - Libraries"
   ]
  },
  {
   "cell_type": "markdown",
   "id": "c1bdb2f4",
   "metadata": {},
   "source": [
    "## 1.2 - Helper Functions"
   ]
  },
  {
   "cell_type": "markdown",
   "id": "172b940e",
   "metadata": {},
   "source": [
    "# 2.0 - Data Extraction"
   ]
  },
  {
   "cell_type": "markdown",
   "id": "e48e99e2",
   "metadata": {},
   "source": [
    "# 3.0 - Descriptive Analysis"
   ]
  },
  {
   "cell_type": "markdown",
   "id": "3dc9ed4a",
   "metadata": {},
   "source": [
    "# 4.0 - Hypothesis Analysis"
   ]
  },
  {
   "cell_type": "markdown",
   "id": "5e1016d8",
   "metadata": {},
   "source": [
    "# 5.0 - Pre-Processing"
   ]
  }
 ],
 "metadata": {
  "kernelspec": {
   "display_name": "Python 3",
   "language": "python",
   "name": "python3"
  },
  "language_info": {
   "codemirror_mode": {
    "name": "ipython",
    "version": 3
   },
   "file_extension": ".py",
   "mimetype": "text/x-python",
   "name": "python",
   "nbconvert_exporter": "python",
   "pygments_lexer": "ipython3",
   "version": "3.9.5"
  }
 },
 "nbformat": 4,
 "nbformat_minor": 5
}
