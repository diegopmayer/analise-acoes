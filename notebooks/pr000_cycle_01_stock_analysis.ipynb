{
 "cells": [
  {
   "cell_type": "markdown",
   "id": "1d8904e7",
   "metadata": {},
   "source": [
    "Planning for this cycle\n",
    "\n",
    "- Cleaning the dataset\n",
    "- Listing rank of the best stock and chosen them\n",
    "- Create a first solution faster"
   ]
  },
  {
   "cell_type": "markdown",
   "id": "91174aef",
   "metadata": {
    "heading_collapsed": true
   },
   "source": [
    "# 1.0 - Packages"
   ]
  },
  {
   "cell_type": "markdown",
   "id": "fb79bb1e",
   "metadata": {
    "heading_collapsed": true,
    "hidden": true
   },
   "source": [
    "## 1.1 - Libraries"
   ]
  },
  {
   "cell_type": "code",
   "execution_count": 3,
   "id": "241be5fe",
   "metadata": {
    "ExecuteTime": {
     "end_time": "2021-07-19T12:22:12.400794Z",
     "start_time": "2021-07-19T12:22:03.477755Z"
    },
    "hidden": true
   },
   "outputs": [],
   "source": [
    "# data manipulation\n",
    "import pandas as pd\n",
    "from datetime import datetime\n",
    "from IPython.display import clear_output\n",
    "\n",
    "# data visualization\n",
    "import matplotlib.pyplot as plt\n",
    "import seaborn as sns\n",
    "\n",
    "# jupyter viewer\n",
    "from IPython.core.display import display, HTML"
   ]
  },
  {
   "cell_type": "markdown",
   "id": "d093f014",
   "metadata": {
    "heading_collapsed": true,
    "hidden": true
   },
   "source": [
    "## 1.2 - Helper Functions"
   ]
  },
  {
   "cell_type": "code",
   "execution_count": 4,
   "id": "c8859265",
   "metadata": {
    "ExecuteTime": {
     "end_time": "2021-07-19T12:22:12.415288Z",
     "start_time": "2021-07-19T12:22:12.403524Z"
    },
    "hidden": true
   },
   "outputs": [
    {
     "data": {
      "text/html": [
       "<style>.conteiner{width:100% !important;}</style>"
      ],
      "text/plain": [
       "<IPython.core.display.HTML object>"
      ]
     },
     "metadata": {},
     "output_type": "display_data"
    }
   ],
   "source": [
    "def jupyter_settings():\n",
    "    \n",
    "    # tamanho dos gráficos para o matplotlib\n",
    "    plt.style.use('bmh')\n",
    "    plt.rcParams['figure.figsize'] = [25, 12]\n",
    "    plt.rcParams['font.size'] = 20\n",
    "    # colocando para aparecer todas as colunas e linhas e ponto flutuantes\n",
    "    pd.options.display.max_columns = None\n",
    "    pd.options.display.max_rows = None\n",
    "    pd.options.display.float_format = '{:.3f}'.format\n",
    "    pd.set_option('display.expand_frame_repr', False)\n",
    "    # expandir a visualização da tela em 100%, como se fosse um zoom\n",
    "    display(HTML('<style>.conteiner{width:100% !important;}</style>'))\n",
    "\n",
    "    #aplicar as mesmas configurações no seaborn\n",
    "    sns.set()\n",
    "\n",
    "jupyter_settings()\n",
    "\n",
    "# the path when the dataset be\n",
    "raw_path = '/home/diegopmayer/Documents/projects/ideias/analise-acoes/notebooks/dataset/raw'"
   ]
  },
  {
   "cell_type": "markdown",
   "id": "ef0dafb5",
   "metadata": {
    "heading_collapsed": true
   },
   "source": [
    "# 2.0 - Data Extraction"
   ]
  },
  {
   "cell_type": "code",
   "execution_count": 5,
   "id": "857f3509",
   "metadata": {
    "ExecuteTime": {
     "end_time": "2021-07-19T12:22:13.772778Z",
     "start_time": "2021-07-19T12:22:12.419813Z"
    },
    "hidden": true
   },
   "outputs": [],
   "source": [
    "# select the data loaded on step 2.2 by cycle 01\n",
    "dataset = pd.read_feather(f'{raw_path}/dataset.ftr')"
   ]
  },
  {
   "cell_type": "code",
   "execution_count": 6,
   "id": "f6a387ca",
   "metadata": {
    "ExecuteTime": {
     "end_time": "2021-07-19T12:22:13.857634Z",
     "start_time": "2021-07-19T12:22:13.774774Z"
    },
    "hidden": true
   },
   "outputs": [
    {
     "data": {
      "text/html": [
       "<div>\n",
       "<style scoped>\n",
       "    .dataframe tbody tr th:only-of-type {\n",
       "        vertical-align: middle;\n",
       "    }\n",
       "\n",
       "    .dataframe tbody tr th {\n",
       "        vertical-align: top;\n",
       "    }\n",
       "\n",
       "    .dataframe thead th {\n",
       "        text-align: right;\n",
       "    }\n",
       "</style>\n",
       "<table border=\"1\" class=\"dataframe\">\n",
       "  <thead>\n",
       "    <tr style=\"text-align: right;\">\n",
       "      <th></th>\n",
       "      <th>Date</th>\n",
       "      <th>Open</th>\n",
       "      <th>High</th>\n",
       "      <th>Low</th>\n",
       "      <th>Close</th>\n",
       "      <th>Volume</th>\n",
       "      <th>Currency</th>\n",
       "      <th>symbol</th>\n",
       "    </tr>\n",
       "  </thead>\n",
       "  <tbody>\n",
       "    <tr>\n",
       "      <th>0</th>\n",
       "      <td>2007-09-27</td>\n",
       "      <td>5.870</td>\n",
       "      <td>6.130</td>\n",
       "      <td>5.870</td>\n",
       "      <td>5.870</td>\n",
       "      <td>365422</td>\n",
       "      <td>BRL</td>\n",
       "      <td>ABCB4</td>\n",
       "    </tr>\n",
       "    <tr>\n",
       "      <th>1</th>\n",
       "      <td>2007-09-28</td>\n",
       "      <td>5.920</td>\n",
       "      <td>5.920</td>\n",
       "      <td>5.830</td>\n",
       "      <td>5.830</td>\n",
       "      <td>94941</td>\n",
       "      <td>BRL</td>\n",
       "      <td>ABCB4</td>\n",
       "    </tr>\n",
       "    <tr>\n",
       "      <th>2</th>\n",
       "      <td>2007-10-01</td>\n",
       "      <td>5.790</td>\n",
       "      <td>6.110</td>\n",
       "      <td>5.790</td>\n",
       "      <td>5.940</td>\n",
       "      <td>265772</td>\n",
       "      <td>BRL</td>\n",
       "      <td>ABCB4</td>\n",
       "    </tr>\n",
       "    <tr>\n",
       "      <th>3</th>\n",
       "      <td>2007-10-02</td>\n",
       "      <td>5.930</td>\n",
       "      <td>5.960</td>\n",
       "      <td>5.750</td>\n",
       "      <td>5.930</td>\n",
       "      <td>34930</td>\n",
       "      <td>BRL</td>\n",
       "      <td>ABCB4</td>\n",
       "    </tr>\n",
       "    <tr>\n",
       "      <th>4</th>\n",
       "      <td>2007-10-03</td>\n",
       "      <td>5.760</td>\n",
       "      <td>5.910</td>\n",
       "      <td>5.760</td>\n",
       "      <td>5.910</td>\n",
       "      <td>34964</td>\n",
       "      <td>BRL</td>\n",
       "      <td>ABCB4</td>\n",
       "    </tr>\n",
       "  </tbody>\n",
       "</table>\n",
       "</div>"
      ],
      "text/plain": [
       "        Date  Open  High   Low  Close  Volume Currency symbol\n",
       "0 2007-09-27 5.870 6.130 5.870  5.870  365422      BRL  ABCB4\n",
       "1 2007-09-28 5.920 5.920 5.830  5.830   94941      BRL  ABCB4\n",
       "2 2007-10-01 5.790 6.110 5.790  5.940  265772      BRL  ABCB4\n",
       "3 2007-10-02 5.930 5.960 5.750  5.930   34930      BRL  ABCB4\n",
       "4 2007-10-03 5.760 5.910 5.760  5.910   34964      BRL  ABCB4"
      ]
     },
     "execution_count": 6,
     "metadata": {},
     "output_type": "execute_result"
    }
   ],
   "source": [
    "dataset.head()"
   ]
  },
  {
   "cell_type": "code",
   "execution_count": 7,
   "id": "82c768b8",
   "metadata": {
    "ExecuteTime": {
     "end_time": "2021-07-19T12:22:13.976085Z",
     "start_time": "2021-07-19T12:22:13.860861Z"
    },
    "hidden": true
   },
   "outputs": [
    {
     "data": {
      "text/plain": [
       "Index(['date', 'open', 'high', 'low', 'close', 'volume', 'currency', 'symbol'], dtype='object')"
      ]
     },
     "execution_count": 7,
     "metadata": {},
     "output_type": "execute_result"
    }
   ],
   "source": [
    "# transforming name of columns to lower case\n",
    "dataset.columns = dataset.columns.str.lower()\n",
    "dataset.columns"
   ]
  },
  {
   "cell_type": "markdown",
   "id": "2db45ca7",
   "metadata": {},
   "source": [
    "# 3.0 - Data Cleaning"
   ]
  },
  {
   "cell_type": "markdown",
   "id": "f59b1503",
   "metadata": {
    "heading_collapsed": true
   },
   "source": [
    "## 3.1 - Dimention and NaN"
   ]
  },
  {
   "cell_type": "code",
   "execution_count": 8,
   "id": "4accf79d",
   "metadata": {
    "ExecuteTime": {
     "end_time": "2021-07-19T12:22:20.925500Z",
     "start_time": "2021-07-19T12:22:20.757940Z"
    },
    "hidden": true
   },
   "outputs": [
    {
     "name": "stdout",
     "output_type": "stream",
     "text": [
      "959655 lines\n",
      "     8 Columns\n",
      "date        0\n",
      "open        0\n",
      "high        0\n",
      "low         0\n",
      "close       0\n",
      "volume      0\n",
      "currency    0\n",
      "symbol      0\n",
      "dtype: int64\n"
     ]
    }
   ],
   "source": [
    "# showing dimension and null values\n",
    "print(f'{dataset.shape[0]} lines\\n     {dataset.shape[1]} Columns')\n",
    "print(f'{dataset.isna().sum()}')"
   ]
  },
  {
   "cell_type": "markdown",
   "id": "90fc76cc",
   "metadata": {
    "hidden": true
   },
   "source": [
    "- Conclusion\n",
    "    - It's a almost 1 milion of lines, but it has a little columns, only 8 columns, the computing do it easly\n",
    "    - Dont's have no one null information, you mustn't clean them"
   ]
  },
  {
   "cell_type": "markdown",
   "id": "cc157c89",
   "metadata": {
    "heading_collapsed": true
   },
   "source": [
    "## 3.2 - Data Type"
   ]
  },
  {
   "cell_type": "code",
   "execution_count": 9,
   "id": "adabd4d5",
   "metadata": {
    "ExecuteTime": {
     "end_time": "2021-07-19T12:22:22.909269Z",
     "start_time": "2021-07-19T12:22:22.896998Z"
    },
    "hidden": true
   },
   "outputs": [
    {
     "name": "stdout",
     "output_type": "stream",
     "text": [
      "Types of data:\n",
      "date        datetime64[ns]\n",
      "open               float64\n",
      "high               float64\n",
      "low                float64\n",
      "close              float64\n",
      "volume               int64\n",
      "currency            object\n",
      "symbol              object\n",
      "dtype: object\n"
     ]
    },
    {
     "data": {
      "text/html": [
       "<div>\n",
       "<style scoped>\n",
       "    .dataframe tbody tr th:only-of-type {\n",
       "        vertical-align: middle;\n",
       "    }\n",
       "\n",
       "    .dataframe tbody tr th {\n",
       "        vertical-align: top;\n",
       "    }\n",
       "\n",
       "    .dataframe thead th {\n",
       "        text-align: right;\n",
       "    }\n",
       "</style>\n",
       "<table border=\"1\" class=\"dataframe\">\n",
       "  <thead>\n",
       "    <tr style=\"text-align: right;\">\n",
       "      <th></th>\n",
       "      <th>date</th>\n",
       "      <th>open</th>\n",
       "      <th>high</th>\n",
       "      <th>low</th>\n",
       "      <th>close</th>\n",
       "      <th>volume</th>\n",
       "      <th>currency</th>\n",
       "      <th>symbol</th>\n",
       "    </tr>\n",
       "  </thead>\n",
       "  <tbody>\n",
       "    <tr>\n",
       "      <th>959650</th>\n",
       "      <td>2021-07-07</td>\n",
       "      <td>4.730</td>\n",
       "      <td>4.840</td>\n",
       "      <td>4.690</td>\n",
       "      <td>4.830</td>\n",
       "      <td>1399700</td>\n",
       "      <td>BRL</td>\n",
       "      <td>BMGB4</td>\n",
       "    </tr>\n",
       "    <tr>\n",
       "      <th>959651</th>\n",
       "      <td>2021-07-08</td>\n",
       "      <td>4.760</td>\n",
       "      <td>4.760</td>\n",
       "      <td>4.680</td>\n",
       "      <td>4.700</td>\n",
       "      <td>949100</td>\n",
       "      <td>BRL</td>\n",
       "      <td>BMGB4</td>\n",
       "    </tr>\n",
       "    <tr>\n",
       "      <th>959652</th>\n",
       "      <td>2021-07-12</td>\n",
       "      <td>4.740</td>\n",
       "      <td>4.860</td>\n",
       "      <td>4.710</td>\n",
       "      <td>4.840</td>\n",
       "      <td>1955700</td>\n",
       "      <td>BRL</td>\n",
       "      <td>BMGB4</td>\n",
       "    </tr>\n",
       "    <tr>\n",
       "      <th>959653</th>\n",
       "      <td>2021-07-13</td>\n",
       "      <td>4.840</td>\n",
       "      <td>4.900</td>\n",
       "      <td>4.750</td>\n",
       "      <td>4.890</td>\n",
       "      <td>1491600</td>\n",
       "      <td>BRL</td>\n",
       "      <td>BMGB4</td>\n",
       "    </tr>\n",
       "    <tr>\n",
       "      <th>959654</th>\n",
       "      <td>2021-07-14</td>\n",
       "      <td>4.890</td>\n",
       "      <td>4.910</td>\n",
       "      <td>4.830</td>\n",
       "      <td>4.860</td>\n",
       "      <td>333100</td>\n",
       "      <td>BRL</td>\n",
       "      <td>BMGB4</td>\n",
       "    </tr>\n",
       "  </tbody>\n",
       "</table>\n",
       "</div>"
      ],
      "text/plain": [
       "             date  open  high   low  close   volume currency symbol\n",
       "959650 2021-07-07 4.730 4.840 4.690  4.830  1399700      BRL  BMGB4\n",
       "959651 2021-07-08 4.760 4.760 4.680  4.700   949100      BRL  BMGB4\n",
       "959652 2021-07-12 4.740 4.860 4.710  4.840  1955700      BRL  BMGB4\n",
       "959653 2021-07-13 4.840 4.900 4.750  4.890  1491600      BRL  BMGB4\n",
       "959654 2021-07-14 4.890 4.910 4.830  4.860   333100      BRL  BMGB4"
      ]
     },
     "execution_count": 9,
     "metadata": {},
     "output_type": "execute_result"
    }
   ],
   "source": [
    "print(f'Types of data:\\n{dataset.dtypes}')\n",
    "dataset.tail()"
   ]
  },
  {
   "cell_type": "markdown",
   "id": "573ec96b",
   "metadata": {
    "hidden": true
   },
   "source": [
    "- Conclusion\n",
    "    - It's all datatype ok"
   ]
  },
  {
   "cell_type": "markdown",
   "id": "decef06f",
   "metadata": {},
   "source": [
    "## 3.3 - Descriptive Statistics"
   ]
  },
  {
   "cell_type": "code",
   "execution_count": 10,
   "id": "03f492c7",
   "metadata": {
    "ExecuteTime": {
     "end_time": "2021-07-19T12:22:28.364317Z",
     "start_time": "2021-07-19T12:22:27.199800Z"
    }
   },
   "outputs": [
    {
     "data": {
      "text/html": [
       "<div>\n",
       "<style scoped>\n",
       "    .dataframe tbody tr th:only-of-type {\n",
       "        vertical-align: middle;\n",
       "    }\n",
       "\n",
       "    .dataframe tbody tr th {\n",
       "        vertical-align: top;\n",
       "    }\n",
       "\n",
       "    .dataframe thead th {\n",
       "        text-align: right;\n",
       "    }\n",
       "</style>\n",
       "<table border=\"1\" class=\"dataframe\">\n",
       "  <thead>\n",
       "    <tr style=\"text-align: right;\">\n",
       "      <th></th>\n",
       "      <th>count</th>\n",
       "      <th>unique</th>\n",
       "      <th>top</th>\n",
       "      <th>freq</th>\n",
       "      <th>mean</th>\n",
       "      <th>min</th>\n",
       "      <th>25%</th>\n",
       "      <th>50%</th>\n",
       "      <th>75%</th>\n",
       "      <th>max</th>\n",
       "      <th>std</th>\n",
       "    </tr>\n",
       "  </thead>\n",
       "  <tbody>\n",
       "    <tr>\n",
       "      <th>date</th>\n",
       "      <td>959655</td>\n",
       "      <td>NaN</td>\n",
       "      <td>NaN</td>\n",
       "      <td>NaN</td>\n",
       "      <td>2013-05-15 07:21:12.123419648</td>\n",
       "      <td>1995-01-02 00:00:00</td>\n",
       "      <td>2009-06-10 00:00:00</td>\n",
       "      <td>2014-07-25 00:00:00</td>\n",
       "      <td>2018-05-18 00:00:00</td>\n",
       "      <td>2021-07-14 00:00:00</td>\n",
       "      <td>NaN</td>\n",
       "    </tr>\n",
       "    <tr>\n",
       "      <th>open</th>\n",
       "      <td>959655.000</td>\n",
       "      <td>NaN</td>\n",
       "      <td>NaN</td>\n",
       "      <td>NaN</td>\n",
       "      <td>29.709</td>\n",
       "      <td>0.000</td>\n",
       "      <td>3.900</td>\n",
       "      <td>9.120</td>\n",
       "      <td>18.320</td>\n",
       "      <td>84410.360</td>\n",
       "      <td>346.521</td>\n",
       "    </tr>\n",
       "    <tr>\n",
       "      <th>high</th>\n",
       "      <td>959655.000</td>\n",
       "      <td>NaN</td>\n",
       "      <td>NaN</td>\n",
       "      <td>NaN</td>\n",
       "      <td>30.156</td>\n",
       "      <td>0.000</td>\n",
       "      <td>3.990</td>\n",
       "      <td>9.280</td>\n",
       "      <td>18.640</td>\n",
       "      <td>20200.390</td>\n",
       "      <td>342.037</td>\n",
       "    </tr>\n",
       "    <tr>\n",
       "      <th>low</th>\n",
       "      <td>959655.000</td>\n",
       "      <td>NaN</td>\n",
       "      <td>NaN</td>\n",
       "      <td>NaN</td>\n",
       "      <td>28.990</td>\n",
       "      <td>0.000</td>\n",
       "      <td>3.820</td>\n",
       "      <td>8.950</td>\n",
       "      <td>17.990</td>\n",
       "      <td>19468.930</td>\n",
       "      <td>326.774</td>\n",
       "    </tr>\n",
       "    <tr>\n",
       "      <th>close</th>\n",
       "      <td>959655.000</td>\n",
       "      <td>NaN</td>\n",
       "      <td>NaN</td>\n",
       "      <td>NaN</td>\n",
       "      <td>29.573</td>\n",
       "      <td>0.000</td>\n",
       "      <td>3.900</td>\n",
       "      <td>9.110</td>\n",
       "      <td>18.310</td>\n",
       "      <td>20157.870</td>\n",
       "      <td>334.334</td>\n",
       "    </tr>\n",
       "    <tr>\n",
       "      <th>volume</th>\n",
       "      <td>959655.000</td>\n",
       "      <td>NaN</td>\n",
       "      <td>NaN</td>\n",
       "      <td>NaN</td>\n",
       "      <td>12633708.334</td>\n",
       "      <td>0.000</td>\n",
       "      <td>11900.000</td>\n",
       "      <td>203418.000</td>\n",
       "      <td>1477400.000</td>\n",
       "      <td>77548822528.000</td>\n",
       "      <td>347732917.884</td>\n",
       "    </tr>\n",
       "    <tr>\n",
       "      <th>currency</th>\n",
       "      <td>959655</td>\n",
       "      <td>1</td>\n",
       "      <td>BRL</td>\n",
       "      <td>959655</td>\n",
       "      <td>NaN</td>\n",
       "      <td>NaN</td>\n",
       "      <td>NaN</td>\n",
       "      <td>NaN</td>\n",
       "      <td>NaN</td>\n",
       "      <td>NaN</td>\n",
       "      <td>NaN</td>\n",
       "    </tr>\n",
       "    <tr>\n",
       "      <th>symbol</th>\n",
       "      <td>959655</td>\n",
       "      <td>374</td>\n",
       "      <td>BBDC3</td>\n",
       "      <td>13040</td>\n",
       "      <td>NaN</td>\n",
       "      <td>NaN</td>\n",
       "      <td>NaN</td>\n",
       "      <td>NaN</td>\n",
       "      <td>NaN</td>\n",
       "      <td>NaN</td>\n",
       "      <td>NaN</td>\n",
       "    </tr>\n",
       "  </tbody>\n",
       "</table>\n",
       "</div>"
      ],
      "text/plain": [
       "              count unique    top    freq                           mean                  min                  25%                  50%                  75%                  max           std\n",
       "date         959655    NaN    NaN     NaN  2013-05-15 07:21:12.123419648  1995-01-02 00:00:00  2009-06-10 00:00:00  2014-07-25 00:00:00  2018-05-18 00:00:00  2021-07-14 00:00:00           NaN\n",
       "open     959655.000    NaN    NaN     NaN                         29.709                0.000                3.900                9.120               18.320            84410.360       346.521\n",
       "high     959655.000    NaN    NaN     NaN                         30.156                0.000                3.990                9.280               18.640            20200.390       342.037\n",
       "low      959655.000    NaN    NaN     NaN                         28.990                0.000                3.820                8.950               17.990            19468.930       326.774\n",
       "close    959655.000    NaN    NaN     NaN                         29.573                0.000                3.900                9.110               18.310            20157.870       334.334\n",
       "volume   959655.000    NaN    NaN     NaN                   12633708.334                0.000            11900.000           203418.000          1477400.000      77548822528.000 347732917.884\n",
       "currency     959655      1    BRL  959655                            NaN                  NaN                  NaN                  NaN                  NaN                  NaN           NaN\n",
       "symbol       959655    374  BBDC3   13040                            NaN                  NaN                  NaN                  NaN                  NaN                  NaN           NaN"
      ]
     },
     "execution_count": 10,
     "metadata": {},
     "output_type": "execute_result"
    }
   ],
   "source": [
    "dataset.describe(include=\"all\", datetime_is_numeric=True).T"
   ]
  },
  {
   "cell_type": "markdown",
   "id": "d756dd26",
   "metadata": {},
   "source": [
    "Points of view\n",
    "\n",
    "- there are a price values equal zero \"0\"\n",
    "    - ✅ dropped 8 registers equal zero\n",
    "- there are a volume egual zero\n",
    "    - ⚠️ not solved, left to another cycle\n",
    "- there are a highest price per stock in \"max\" with 20 thousand, is it correct?"
   ]
  },
  {
   "cell_type": "markdown",
   "id": "3db8942b",
   "metadata": {
    "heading_collapsed": true
   },
   "source": [
    "### 3.3.1 - Price equal zero"
   ]
  },
  {
   "cell_type": "code",
   "execution_count": 11,
   "id": "271aeb38",
   "metadata": {
    "ExecuteTime": {
     "end_time": "2021-07-19T12:22:38.703356Z",
     "start_time": "2021-07-19T12:22:31.313240Z"
    },
    "hidden": true
   },
   "outputs": [
    {
     "data": {
      "text/html": [
       "<div>\n",
       "<style scoped>\n",
       "    .dataframe tbody tr th:only-of-type {\n",
       "        vertical-align: middle;\n",
       "    }\n",
       "\n",
       "    .dataframe tbody tr th {\n",
       "        vertical-align: top;\n",
       "    }\n",
       "\n",
       "    .dataframe thead th {\n",
       "        text-align: right;\n",
       "    }\n",
       "</style>\n",
       "<table border=\"1\" class=\"dataframe\">\n",
       "  <thead>\n",
       "    <tr style=\"text-align: right;\">\n",
       "      <th></th>\n",
       "      <th>weekday</th>\n",
       "      <th>date</th>\n",
       "      <th>open</th>\n",
       "      <th>high</th>\n",
       "      <th>low</th>\n",
       "      <th>close</th>\n",
       "      <th>volume</th>\n",
       "      <th>currency</th>\n",
       "      <th>symbol</th>\n",
       "    </tr>\n",
       "  </thead>\n",
       "  <tbody>\n",
       "    <tr>\n",
       "      <th>0</th>\n",
       "      <td>Friday</td>\n",
       "      <td>1995-01-06</td>\n",
       "      <td>0.000</td>\n",
       "      <td>0.000</td>\n",
       "      <td>0.000</td>\n",
       "      <td>0.000</td>\n",
       "      <td>0</td>\n",
       "      <td>BRL</td>\n",
       "      <td>AALR3</td>\n",
       "    </tr>\n",
       "    <tr>\n",
       "      <th>1</th>\n",
       "      <td>Monday</td>\n",
       "      <td>1995-01-02</td>\n",
       "      <td>0.010</td>\n",
       "      <td>0.010</td>\n",
       "      <td>0.010</td>\n",
       "      <td>0.010</td>\n",
       "      <td>0</td>\n",
       "      <td>BRL</td>\n",
       "      <td>AALR3</td>\n",
       "    </tr>\n",
       "    <tr>\n",
       "      <th>2</th>\n",
       "      <td>Thursday</td>\n",
       "      <td>1995-01-05</td>\n",
       "      <td>0.000</td>\n",
       "      <td>0.000</td>\n",
       "      <td>0.000</td>\n",
       "      <td>0.000</td>\n",
       "      <td>0</td>\n",
       "      <td>BRL</td>\n",
       "      <td>AALR3</td>\n",
       "    </tr>\n",
       "    <tr>\n",
       "      <th>3</th>\n",
       "      <td>Tuesday</td>\n",
       "      <td>1995-01-03</td>\n",
       "      <td>0.010</td>\n",
       "      <td>0.010</td>\n",
       "      <td>0.010</td>\n",
       "      <td>0.010</td>\n",
       "      <td>0</td>\n",
       "      <td>BRL</td>\n",
       "      <td>AALR3</td>\n",
       "    </tr>\n",
       "    <tr>\n",
       "      <th>4</th>\n",
       "      <td>Wednesday</td>\n",
       "      <td>1995-01-04</td>\n",
       "      <td>0.000</td>\n",
       "      <td>0.000</td>\n",
       "      <td>0.000</td>\n",
       "      <td>0.000</td>\n",
       "      <td>0</td>\n",
       "      <td>BRL</td>\n",
       "      <td>AALR3</td>\n",
       "    </tr>\n",
       "  </tbody>\n",
       "</table>\n",
       "</div>"
      ],
      "text/plain": [
       "     weekday       date  open  high   low  close  volume currency symbol\n",
       "0     Friday 1995-01-06 0.000 0.000 0.000  0.000       0      BRL  AALR3\n",
       "1     Monday 1995-01-02 0.010 0.010 0.010  0.010       0      BRL  AALR3\n",
       "2   Thursday 1995-01-05 0.000 0.000 0.000  0.000       0      BRL  AALR3\n",
       "3    Tuesday 1995-01-03 0.010 0.010 0.010  0.010       0      BRL  AALR3\n",
       "4  Wednesday 1995-01-04 0.000 0.000 0.000  0.000       0      BRL  AALR3"
      ]
     },
     "execution_count": 11,
     "metadata": {},
     "output_type": "execute_result"
    }
   ],
   "source": [
    "# zero cotation\n",
    "# getting the name of week in each day\n",
    "dataset.loc[:, 'weekday'] = dataset.loc[:, 'date'].apply(lambda x: x.strftime('%A'))\n",
    "# seeing the minimum value groupby day of week\n",
    "dataset.groupby(by=['weekday']).min().reset_index()"
   ]
  },
  {
   "cell_type": "code",
   "execution_count": 12,
   "id": "64975b3a",
   "metadata": {
    "ExecuteTime": {
     "end_time": "2021-07-19T12:22:38.903219Z",
     "start_time": "2021-07-19T12:22:38.705783Z"
    },
    "hidden": true
   },
   "outputs": [
    {
     "name": "stdout",
     "output_type": "stream",
     "text": [
      "8 registers deleted\n"
     ]
    }
   ],
   "source": [
    "# dropping lines with price equal zero\n",
    "print(f\"{dataset[dataset['close'] == 0].shape[0]} registers deleted\")\n",
    "dataset.drop(dataset[dataset['close'] == 0].index, axis=0, inplace=True)"
   ]
  },
  {
   "cell_type": "markdown",
   "id": "5646a73a",
   "metadata": {},
   "source": [
    "### 3.3.2 - Operation volume equal zero"
   ]
  },
  {
   "cell_type": "code",
   "execution_count": 13,
   "id": "e9b61aac",
   "metadata": {
    "ExecuteTime": {
     "end_time": "2021-07-19T12:23:14.598545Z",
     "start_time": "2021-07-19T12:23:14.411222Z"
    }
   },
   "outputs": [
    {
     "data": {
      "text/html": [
       "<div>\n",
       "<style scoped>\n",
       "    .dataframe tbody tr th:only-of-type {\n",
       "        vertical-align: middle;\n",
       "    }\n",
       "\n",
       "    .dataframe tbody tr th {\n",
       "        vertical-align: top;\n",
       "    }\n",
       "\n",
       "    .dataframe thead th {\n",
       "        text-align: right;\n",
       "    }\n",
       "</style>\n",
       "<table border=\"1\" class=\"dataframe\">\n",
       "  <thead>\n",
       "    <tr style=\"text-align: right;\">\n",
       "      <th></th>\n",
       "      <th>date</th>\n",
       "      <th>open</th>\n",
       "      <th>high</th>\n",
       "      <th>low</th>\n",
       "      <th>close</th>\n",
       "      <th>volume</th>\n",
       "      <th>currency</th>\n",
       "      <th>symbol</th>\n",
       "      <th>weekday</th>\n",
       "    </tr>\n",
       "    <tr>\n",
       "      <th>year</th>\n",
       "      <th></th>\n",
       "      <th></th>\n",
       "      <th></th>\n",
       "      <th></th>\n",
       "      <th></th>\n",
       "      <th></th>\n",
       "      <th></th>\n",
       "      <th></th>\n",
       "      <th></th>\n",
       "    </tr>\n",
       "  </thead>\n",
       "  <tbody>\n",
       "    <tr>\n",
       "      <th>1995</th>\n",
       "      <td>280</td>\n",
       "      <td>280</td>\n",
       "      <td>280</td>\n",
       "      <td>280</td>\n",
       "      <td>280</td>\n",
       "      <td>280</td>\n",
       "      <td>280</td>\n",
       "      <td>280</td>\n",
       "      <td>280</td>\n",
       "    </tr>\n",
       "    <tr>\n",
       "      <th>1996</th>\n",
       "      <td>385</td>\n",
       "      <td>385</td>\n",
       "      <td>385</td>\n",
       "      <td>385</td>\n",
       "      <td>385</td>\n",
       "      <td>385</td>\n",
       "      <td>385</td>\n",
       "      <td>385</td>\n",
       "      <td>385</td>\n",
       "    </tr>\n",
       "    <tr>\n",
       "      <th>1997</th>\n",
       "      <td>353</td>\n",
       "      <td>353</td>\n",
       "      <td>353</td>\n",
       "      <td>353</td>\n",
       "      <td>353</td>\n",
       "      <td>353</td>\n",
       "      <td>353</td>\n",
       "      <td>353</td>\n",
       "      <td>353</td>\n",
       "    </tr>\n",
       "    <tr>\n",
       "      <th>1998</th>\n",
       "      <td>225</td>\n",
       "      <td>225</td>\n",
       "      <td>225</td>\n",
       "      <td>225</td>\n",
       "      <td>225</td>\n",
       "      <td>225</td>\n",
       "      <td>225</td>\n",
       "      <td>225</td>\n",
       "      <td>225</td>\n",
       "    </tr>\n",
       "    <tr>\n",
       "      <th>1999</th>\n",
       "      <td>301</td>\n",
       "      <td>301</td>\n",
       "      <td>301</td>\n",
       "      <td>301</td>\n",
       "      <td>301</td>\n",
       "      <td>301</td>\n",
       "      <td>301</td>\n",
       "      <td>301</td>\n",
       "      <td>301</td>\n",
       "    </tr>\n",
       "  </tbody>\n",
       "</table>\n",
       "</div>"
      ],
      "text/plain": [
       "      date  open  high  low  close  volume  currency  symbol  weekday\n",
       "year                                                                 \n",
       "1995   280   280   280  280    280     280       280     280      280\n",
       "1996   385   385   385  385    385     385       385     385      385\n",
       "1997   353   353   353  353    353     353       353     353      353\n",
       "1998   225   225   225  225    225     225       225     225      225\n",
       "1999   301   301   301  301    301     301       301     301      301"
      ]
     },
     "execution_count": 13,
     "metadata": {},
     "output_type": "execute_result"
    }
   ],
   "source": [
    "# getting year from date and create a new columns called year\n",
    "dataset.loc[:, 'year'] = dataset.loc[:, 'date'].dt.year\n",
    "dataset.loc[dataset[dataset['volume'] == 0].index].groupby(['year']).count().head()"
   ]
  },
  {
   "cell_type": "code",
   "execution_count": null,
   "id": "062e8748",
   "metadata": {},
   "outputs": [],
   "source": []
  }
 ],
 "metadata": {
  "kernelspec": {
   "display_name": "Python 3",
   "language": "python",
   "name": "python3"
  },
  "language_info": {
   "codemirror_mode": {
    "name": "ipython",
    "version": 3
   },
   "file_extension": ".py",
   "mimetype": "text/x-python",
   "name": "python",
   "nbconvert_exporter": "python",
   "pygments_lexer": "ipython3",
   "version": "3.9.5"
  }
 },
 "nbformat": 4,
 "nbformat_minor": 5
}
