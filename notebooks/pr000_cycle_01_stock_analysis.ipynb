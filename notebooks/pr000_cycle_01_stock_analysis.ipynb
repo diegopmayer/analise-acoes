{
 "cells": [
  {
   "cell_type": "markdown",
   "id": "1d8904e7",
   "metadata": {},
   "source": [
    "Planning for this cycle\n",
    "\n",
    "- Cleaning the dataset\n",
    "- Listing rank of the best stock and chosen them\n",
    "- Create a first solution faster"
   ]
  },
  {
   "cell_type": "markdown",
   "id": "91174aef",
   "metadata": {
    "heading_collapsed": true
   },
   "source": [
    "# 1.0 - Packages"
   ]
  },
  {
   "cell_type": "markdown",
   "id": "fb79bb1e",
   "metadata": {
    "heading_collapsed": true,
    "hidden": true
   },
   "source": [
    "## 1.1 - Libraries"
   ]
  },
  {
   "cell_type": "code",
   "execution_count": 1,
   "id": "241be5fe",
   "metadata": {
    "ExecuteTime": {
     "end_time": "2021-07-15T12:35:10.564279Z",
     "start_time": "2021-07-15T12:35:02.102049Z"
    },
    "hidden": true
   },
   "outputs": [],
   "source": [
    "# data manipulation\n",
    "import pandas as pd\n",
    "from datetime import datetime\n",
    "from IPython.display import clear_output\n",
    "\n",
    "# data visualization\n",
    "import matplotlib.pyplot as plt\n",
    "import seaborn as sns\n",
    "\n",
    "# jupyter viewer\n",
    "from IPython.core.display import display, HTML"
   ]
  },
  {
   "cell_type": "markdown",
   "id": "d093f014",
   "metadata": {
    "heading_collapsed": true,
    "hidden": true
   },
   "source": [
    "## 1.2 - Helper Functions"
   ]
  },
  {
   "cell_type": "code",
   "execution_count": 2,
   "id": "c8859265",
   "metadata": {
    "ExecuteTime": {
     "end_time": "2021-07-15T12:36:16.137109Z",
     "start_time": "2021-07-15T12:36:16.112885Z"
    },
    "hidden": true
   },
   "outputs": [
    {
     "data": {
      "text/html": [
       "<style>.conteiner{width:100% !important;}</style>"
      ],
      "text/plain": [
       "<IPython.core.display.HTML object>"
      ]
     },
     "metadata": {},
     "output_type": "display_data"
    }
   ],
   "source": [
    "def jupyter_settings():\n",
    "    \n",
    "    # tamanho dos gráficos para o matplotlib\n",
    "    plt.style.use('bmh')\n",
    "    plt.rcParams['figure.figsize'] = [25, 12]\n",
    "    plt.rcParams['font.size'] = 20\n",
    "    # colocando para aparecer todas as colunas e linhas e ponto flutuantes\n",
    "    pd.options.display.max_columns = None\n",
    "    pd.options.display.max_rows = None\n",
    "    pd.options.display.float_format = '{:.3f}'.format\n",
    "    pd.set_option('display.expand_frame_repr', False)\n",
    "    # expandir a visualização da tela em 100%, como se fosse um zoom\n",
    "    display(HTML('<style>.conteiner{width:100% !important;}</style>'))\n",
    "\n",
    "    #aplicar as mesmas configurações no seaborn\n",
    "    sns.set()\n",
    "\n",
    "jupyter_settings()\n",
    "\n",
    "# the path when the dataset be\n",
    "raw_path = '/home/diegopmayer/Documents/projects/ideias/analise-acoes/notebooks/dataset/raw'"
   ]
  },
  {
   "cell_type": "markdown",
   "id": "ef0dafb5",
   "metadata": {},
   "source": [
    "# 2.0 - Data Extraction"
   ]
  },
  {
   "cell_type": "code",
   "execution_count": 7,
   "id": "857f3509",
   "metadata": {
    "ExecuteTime": {
     "end_time": "2021-07-14T21:18:11.471033Z",
     "start_time": "2021-07-14T21:18:11.011636Z"
    }
   },
   "outputs": [],
   "source": [
    "# select the data loaded on step 2.2 by cycle 01\n",
    "dataset = pd.read_feather(f'{raw_path}/dataset.ftr')"
   ]
  },
  {
   "cell_type": "markdown",
   "id": "2db45ca7",
   "metadata": {},
   "source": [
    "# 3.0 - Data Cleaning"
   ]
  },
  {
   "cell_type": "markdown",
   "id": "f59b1503",
   "metadata": {
    "heading_collapsed": true
   },
   "source": [
    "### 2.3.1 - Dimention and NaN"
   ]
  },
  {
   "cell_type": "code",
   "execution_count": 18,
   "id": "4accf79d",
   "metadata": {
    "ExecuteTime": {
     "end_time": "2021-07-14T21:22:02.544794Z",
     "start_time": "2021-07-14T21:22:02.438074Z"
    },
    "hidden": true
   },
   "outputs": [
    {
     "name": "stdout",
     "output_type": "stream",
     "text": [
      "959655 lines\n",
      "     8 Columns\n",
      "Date        0\n",
      "Open        0\n",
      "High        0\n",
      "Low         0\n",
      "Close       0\n",
      "Volume      0\n",
      "Currency    0\n",
      "symbol      0\n",
      "dtype: int64\n"
     ]
    }
   ],
   "source": [
    "print(f'{dataset.shape[0]} lines\\n     {dataset.shape[1]} Columns')\n",
    "print(f'{dataset.isna().sum()}')"
   ]
  },
  {
   "cell_type": "markdown",
   "id": "90fc76cc",
   "metadata": {
    "hidden": true
   },
   "source": [
    "- Conclusion\n",
    "    - It's a almost 1 milion of lines, but it has a little columns, only 8 columns, the computing do it easly\n",
    "    - Dont's have no one null information, you mustn't clean them"
   ]
  },
  {
   "cell_type": "markdown",
   "id": "cc157c89",
   "metadata": {
    "heading_collapsed": true
   },
   "source": [
    "### 2.3.2 - Data Type"
   ]
  },
  {
   "cell_type": "code",
   "execution_count": 20,
   "id": "adabd4d5",
   "metadata": {
    "ExecuteTime": {
     "end_time": "2021-07-14T21:22:38.359304Z",
     "start_time": "2021-07-14T21:22:38.341231Z"
    },
    "hidden": true
   },
   "outputs": [
    {
     "data": {
      "text/plain": [
       "Date        datetime64[ns]\n",
       "Open               float64\n",
       "High               float64\n",
       "Low                float64\n",
       "Close              float64\n",
       "Volume               int64\n",
       "Currency            object\n",
       "symbol              object\n",
       "dtype: object"
      ]
     },
     "execution_count": 20,
     "metadata": {},
     "output_type": "execute_result"
    }
   ],
   "source": [
    "dataset.dtypes"
   ]
  },
  {
   "cell_type": "code",
   "execution_count": 21,
   "id": "3f304848",
   "metadata": {
    "ExecuteTime": {
     "end_time": "2021-07-14T21:22:47.438622Z",
     "start_time": "2021-07-14T21:22:47.388294Z"
    },
    "hidden": true
   },
   "outputs": [
    {
     "data": {
      "text/html": [
       "<div>\n",
       "<style scoped>\n",
       "    .dataframe tbody tr th:only-of-type {\n",
       "        vertical-align: middle;\n",
       "    }\n",
       "\n",
       "    .dataframe tbody tr th {\n",
       "        vertical-align: top;\n",
       "    }\n",
       "\n",
       "    .dataframe thead th {\n",
       "        text-align: right;\n",
       "    }\n",
       "</style>\n",
       "<table border=\"1\" class=\"dataframe\">\n",
       "  <thead>\n",
       "    <tr style=\"text-align: right;\">\n",
       "      <th></th>\n",
       "      <th>Date</th>\n",
       "      <th>Open</th>\n",
       "      <th>High</th>\n",
       "      <th>Low</th>\n",
       "      <th>Close</th>\n",
       "      <th>Volume</th>\n",
       "      <th>Currency</th>\n",
       "      <th>symbol</th>\n",
       "    </tr>\n",
       "  </thead>\n",
       "  <tbody>\n",
       "    <tr>\n",
       "      <th>959650</th>\n",
       "      <td>2021-07-07</td>\n",
       "      <td>4.73</td>\n",
       "      <td>4.84</td>\n",
       "      <td>4.69</td>\n",
       "      <td>4.83</td>\n",
       "      <td>1399700</td>\n",
       "      <td>BRL</td>\n",
       "      <td>BMGB4</td>\n",
       "    </tr>\n",
       "    <tr>\n",
       "      <th>959651</th>\n",
       "      <td>2021-07-08</td>\n",
       "      <td>4.76</td>\n",
       "      <td>4.76</td>\n",
       "      <td>4.68</td>\n",
       "      <td>4.70</td>\n",
       "      <td>949100</td>\n",
       "      <td>BRL</td>\n",
       "      <td>BMGB4</td>\n",
       "    </tr>\n",
       "    <tr>\n",
       "      <th>959652</th>\n",
       "      <td>2021-07-12</td>\n",
       "      <td>4.74</td>\n",
       "      <td>4.86</td>\n",
       "      <td>4.71</td>\n",
       "      <td>4.84</td>\n",
       "      <td>1955700</td>\n",
       "      <td>BRL</td>\n",
       "      <td>BMGB4</td>\n",
       "    </tr>\n",
       "    <tr>\n",
       "      <th>959653</th>\n",
       "      <td>2021-07-13</td>\n",
       "      <td>4.84</td>\n",
       "      <td>4.90</td>\n",
       "      <td>4.75</td>\n",
       "      <td>4.89</td>\n",
       "      <td>1491600</td>\n",
       "      <td>BRL</td>\n",
       "      <td>BMGB4</td>\n",
       "    </tr>\n",
       "    <tr>\n",
       "      <th>959654</th>\n",
       "      <td>2021-07-14</td>\n",
       "      <td>4.89</td>\n",
       "      <td>4.91</td>\n",
       "      <td>4.83</td>\n",
       "      <td>4.86</td>\n",
       "      <td>333100</td>\n",
       "      <td>BRL</td>\n",
       "      <td>BMGB4</td>\n",
       "    </tr>\n",
       "  </tbody>\n",
       "</table>\n",
       "</div>"
      ],
      "text/plain": [
       "             Date  Open  High   Low  Close   Volume Currency symbol\n",
       "959650 2021-07-07  4.73  4.84  4.69   4.83  1399700      BRL  BMGB4\n",
       "959651 2021-07-08  4.76  4.76  4.68   4.70   949100      BRL  BMGB4\n",
       "959652 2021-07-12  4.74  4.86  4.71   4.84  1955700      BRL  BMGB4\n",
       "959653 2021-07-13  4.84  4.90  4.75   4.89  1491600      BRL  BMGB4\n",
       "959654 2021-07-14  4.89  4.91  4.83   4.86   333100      BRL  BMGB4"
      ]
     },
     "execution_count": 21,
     "metadata": {},
     "output_type": "execute_result"
    }
   ],
   "source": [
    "dataset.tail()"
   ]
  },
  {
   "cell_type": "markdown",
   "id": "573ec96b",
   "metadata": {
    "hidden": true
   },
   "source": [
    "- Conclusion\n",
    "    - It's all datatype ok"
   ]
  },
  {
   "cell_type": "markdown",
   "id": "decef06f",
   "metadata": {},
   "source": [
    "### 2.3.3 - Descriptive Statistics"
   ]
  },
  {
   "cell_type": "code",
   "execution_count": 45,
   "id": "03f492c7",
   "metadata": {
    "ExecuteTime": {
     "end_time": "2021-07-14T21:47:23.435192Z",
     "start_time": "2021-07-14T21:47:23.074946Z"
    }
   },
   "outputs": [
    {
     "data": {
      "text/html": [
       "<div>\n",
       "<style scoped>\n",
       "    .dataframe tbody tr th:only-of-type {\n",
       "        vertical-align: middle;\n",
       "    }\n",
       "\n",
       "    .dataframe tbody tr th {\n",
       "        vertical-align: top;\n",
       "    }\n",
       "\n",
       "    .dataframe thead th {\n",
       "        text-align: right;\n",
       "    }\n",
       "</style>\n",
       "<table border=\"1\" class=\"dataframe\">\n",
       "  <thead>\n",
       "    <tr style=\"text-align: right;\">\n",
       "      <th></th>\n",
       "      <th>count</th>\n",
       "      <th>unique</th>\n",
       "      <th>top</th>\n",
       "      <th>freq</th>\n",
       "      <th>mean</th>\n",
       "      <th>min</th>\n",
       "      <th>25%</th>\n",
       "      <th>50%</th>\n",
       "      <th>75%</th>\n",
       "      <th>max</th>\n",
       "      <th>std</th>\n",
       "    </tr>\n",
       "  </thead>\n",
       "  <tbody>\n",
       "    <tr>\n",
       "      <th>Date</th>\n",
       "      <td>959655</td>\n",
       "      <td>NaN</td>\n",
       "      <td>NaN</td>\n",
       "      <td>NaN</td>\n",
       "      <td>2013-05-15 07:21:12.123419648</td>\n",
       "      <td>1995-01-02 00:00:00</td>\n",
       "      <td>2009-06-10 00:00:00</td>\n",
       "      <td>2014-07-25 00:00:00</td>\n",
       "      <td>2018-05-18 00:00:00</td>\n",
       "      <td>2021-07-14 00:00:00</td>\n",
       "      <td>NaN</td>\n",
       "    </tr>\n",
       "    <tr>\n",
       "      <th>Open</th>\n",
       "      <td>959655.000</td>\n",
       "      <td>NaN</td>\n",
       "      <td>NaN</td>\n",
       "      <td>NaN</td>\n",
       "      <td>29.709</td>\n",
       "      <td>0.000</td>\n",
       "      <td>3.900</td>\n",
       "      <td>9.120</td>\n",
       "      <td>18.320</td>\n",
       "      <td>84410.360</td>\n",
       "      <td>346.521</td>\n",
       "    </tr>\n",
       "    <tr>\n",
       "      <th>High</th>\n",
       "      <td>959655.000</td>\n",
       "      <td>NaN</td>\n",
       "      <td>NaN</td>\n",
       "      <td>NaN</td>\n",
       "      <td>30.156</td>\n",
       "      <td>0.000</td>\n",
       "      <td>3.990</td>\n",
       "      <td>9.280</td>\n",
       "      <td>18.640</td>\n",
       "      <td>20200.390</td>\n",
       "      <td>342.037</td>\n",
       "    </tr>\n",
       "    <tr>\n",
       "      <th>Low</th>\n",
       "      <td>959655.000</td>\n",
       "      <td>NaN</td>\n",
       "      <td>NaN</td>\n",
       "      <td>NaN</td>\n",
       "      <td>28.990</td>\n",
       "      <td>0.000</td>\n",
       "      <td>3.820</td>\n",
       "      <td>8.950</td>\n",
       "      <td>17.990</td>\n",
       "      <td>19468.930</td>\n",
       "      <td>326.774</td>\n",
       "    </tr>\n",
       "    <tr>\n",
       "      <th>Close</th>\n",
       "      <td>959655.000</td>\n",
       "      <td>NaN</td>\n",
       "      <td>NaN</td>\n",
       "      <td>NaN</td>\n",
       "      <td>29.573</td>\n",
       "      <td>0.000</td>\n",
       "      <td>3.900</td>\n",
       "      <td>9.110</td>\n",
       "      <td>18.310</td>\n",
       "      <td>20157.870</td>\n",
       "      <td>334.334</td>\n",
       "    </tr>\n",
       "    <tr>\n",
       "      <th>Volume</th>\n",
       "      <td>959655.000</td>\n",
       "      <td>NaN</td>\n",
       "      <td>NaN</td>\n",
       "      <td>NaN</td>\n",
       "      <td>12633708.334</td>\n",
       "      <td>0.000</td>\n",
       "      <td>11900.000</td>\n",
       "      <td>203418.000</td>\n",
       "      <td>1477400.000</td>\n",
       "      <td>77548822528.000</td>\n",
       "      <td>347732917.884</td>\n",
       "    </tr>\n",
       "    <tr>\n",
       "      <th>Currency</th>\n",
       "      <td>959655</td>\n",
       "      <td>1</td>\n",
       "      <td>BRL</td>\n",
       "      <td>959655</td>\n",
       "      <td>NaN</td>\n",
       "      <td>NaN</td>\n",
       "      <td>NaN</td>\n",
       "      <td>NaN</td>\n",
       "      <td>NaN</td>\n",
       "      <td>NaN</td>\n",
       "      <td>NaN</td>\n",
       "    </tr>\n",
       "    <tr>\n",
       "      <th>symbol</th>\n",
       "      <td>959655</td>\n",
       "      <td>374</td>\n",
       "      <td>BBDC3</td>\n",
       "      <td>13040</td>\n",
       "      <td>NaN</td>\n",
       "      <td>NaN</td>\n",
       "      <td>NaN</td>\n",
       "      <td>NaN</td>\n",
       "      <td>NaN</td>\n",
       "      <td>NaN</td>\n",
       "      <td>NaN</td>\n",
       "    </tr>\n",
       "  </tbody>\n",
       "</table>\n",
       "</div>"
      ],
      "text/plain": [
       "              count unique    top    freq                           mean                  min                  25%                  50%                  75%                  max           std\n",
       "Date         959655    NaN    NaN     NaN  2013-05-15 07:21:12.123419648  1995-01-02 00:00:00  2009-06-10 00:00:00  2014-07-25 00:00:00  2018-05-18 00:00:00  2021-07-14 00:00:00           NaN\n",
       "Open     959655.000    NaN    NaN     NaN                         29.709                0.000                3.900                9.120               18.320            84410.360       346.521\n",
       "High     959655.000    NaN    NaN     NaN                         30.156                0.000                3.990                9.280               18.640            20200.390       342.037\n",
       "Low      959655.000    NaN    NaN     NaN                         28.990                0.000                3.820                8.950               17.990            19468.930       326.774\n",
       "Close    959655.000    NaN    NaN     NaN                         29.573                0.000                3.900                9.110               18.310            20157.870       334.334\n",
       "Volume   959655.000    NaN    NaN     NaN                   12633708.334                0.000            11900.000           203418.000          1477400.000      77548822528.000 347732917.884\n",
       "Currency     959655      1    BRL  959655                            NaN                  NaN                  NaN                  NaN                  NaN                  NaN           NaN\n",
       "symbol       959655    374  BBDC3   13040                            NaN                  NaN                  NaN                  NaN                  NaN                  NaN           NaN"
      ]
     },
     "execution_count": 45,
     "metadata": {},
     "output_type": "execute_result"
    }
   ],
   "source": [
    "dataset.describe(include=\"all\", datetime_is_numeric=True).T"
   ]
  },
  {
   "cell_type": "markdown",
   "id": "d756dd26",
   "metadata": {},
   "source": [
    "Points of view\n",
    "\n",
    "- there are a price values equal zero \"0\", is it a weekend?\n",
    "- there are a highest price per stock in \"max\" with 20 thousand, is it correct?"
   ]
  },
  {
   "cell_type": "code",
   "execution_count": 69,
   "id": "271aeb38",
   "metadata": {
    "ExecuteTime": {
     "end_time": "2021-07-14T22:49:26.117473Z",
     "start_time": "2021-07-14T22:49:25.942362Z"
    }
   },
   "outputs": [
    {
     "data": {
      "text/html": [
       "<div>\n",
       "<style scoped>\n",
       "    .dataframe tbody tr th:only-of-type {\n",
       "        vertical-align: middle;\n",
       "    }\n",
       "\n",
       "    .dataframe tbody tr th {\n",
       "        vertical-align: top;\n",
       "    }\n",
       "\n",
       "    .dataframe thead th {\n",
       "        text-align: right;\n",
       "    }\n",
       "</style>\n",
       "<table border=\"1\" class=\"dataframe\">\n",
       "  <thead>\n",
       "    <tr style=\"text-align: right;\">\n",
       "      <th></th>\n",
       "      <th>Open</th>\n",
       "      <th>High</th>\n",
       "      <th>Low</th>\n",
       "      <th>Close</th>\n",
       "      <th>Volume</th>\n",
       "    </tr>\n",
       "    <tr>\n",
       "      <th>day_of_week</th>\n",
       "      <th></th>\n",
       "      <th></th>\n",
       "      <th></th>\n",
       "      <th></th>\n",
       "      <th></th>\n",
       "    </tr>\n",
       "  </thead>\n",
       "  <tbody>\n",
       "    <tr>\n",
       "      <th>0</th>\n",
       "      <td>29.866</td>\n",
       "      <td>29.935</td>\n",
       "      <td>28.805</td>\n",
       "      <td>29.348</td>\n",
       "      <td>10599464.921</td>\n",
       "    </tr>\n",
       "    <tr>\n",
       "      <th>1</th>\n",
       "      <td>29.532</td>\n",
       "      <td>30.056</td>\n",
       "      <td>28.914</td>\n",
       "      <td>29.471</td>\n",
       "      <td>13356059.721</td>\n",
       "    </tr>\n",
       "    <tr>\n",
       "      <th>2</th>\n",
       "      <td>30.204</td>\n",
       "      <td>30.759</td>\n",
       "      <td>29.569</td>\n",
       "      <td>30.163</td>\n",
       "      <td>13463955.597</td>\n",
       "    </tr>\n",
       "    <tr>\n",
       "      <th>3</th>\n",
       "      <td>29.372</td>\n",
       "      <td>29.905</td>\n",
       "      <td>28.714</td>\n",
       "      <td>29.324</td>\n",
       "      <td>13531028.473</td>\n",
       "    </tr>\n",
       "    <tr>\n",
       "      <th>4</th>\n",
       "      <td>29.557</td>\n",
       "      <td>30.105</td>\n",
       "      <td>28.931</td>\n",
       "      <td>29.542</td>\n",
       "      <td>12179134.315</td>\n",
       "    </tr>\n",
       "  </tbody>\n",
       "</table>\n",
       "</div>"
      ],
      "text/plain": [
       "              Open   High    Low  Close       Volume\n",
       "day_of_week                                         \n",
       "0           29.866 29.935 28.805 29.348 10599464.921\n",
       "1           29.532 30.056 28.914 29.471 13356059.721\n",
       "2           30.204 30.759 29.569 30.163 13463955.597\n",
       "3           29.372 29.905 28.714 29.324 13531028.473\n",
       "4           29.557 30.105 28.931 29.542 12179134.315"
      ]
     },
     "execution_count": 69,
     "metadata": {},
     "output_type": "execute_result"
    }
   ],
   "source": [
    "# zero cotation\n",
    "#getting a group per week and see the mean price\n",
    "dataset.loc[:, 'day_of_week'] = dataset['Date'].dt.day_of_week\n",
    "dataset.groupby(by=['day_of_week']).mean().head(10)"
   ]
  },
  {
   "cell_type": "code",
   "execution_count": 70,
   "id": "57774044",
   "metadata": {
    "ExecuteTime": {
     "end_time": "2021-07-14T22:50:05.330899Z",
     "start_time": "2021-07-14T22:50:04.907289Z"
    }
   },
   "outputs": [
    {
     "data": {
      "text/html": [
       "<div>\n",
       "<style scoped>\n",
       "    .dataframe tbody tr th:only-of-type {\n",
       "        vertical-align: middle;\n",
       "    }\n",
       "\n",
       "    .dataframe tbody tr th {\n",
       "        vertical-align: top;\n",
       "    }\n",
       "\n",
       "    .dataframe thead th {\n",
       "        text-align: right;\n",
       "    }\n",
       "</style>\n",
       "<table border=\"1\" class=\"dataframe\">\n",
       "  <thead>\n",
       "    <tr style=\"text-align: right;\">\n",
       "      <th></th>\n",
       "      <th>Date</th>\n",
       "      <th>Open</th>\n",
       "      <th>High</th>\n",
       "      <th>Low</th>\n",
       "      <th>Close</th>\n",
       "      <th>Volume</th>\n",
       "      <th>Currency</th>\n",
       "      <th>symbol</th>\n",
       "    </tr>\n",
       "    <tr>\n",
       "      <th>day_of_week</th>\n",
       "      <th></th>\n",
       "      <th></th>\n",
       "      <th></th>\n",
       "      <th></th>\n",
       "      <th></th>\n",
       "      <th></th>\n",
       "      <th></th>\n",
       "      <th></th>\n",
       "    </tr>\n",
       "  </thead>\n",
       "  <tbody>\n",
       "    <tr>\n",
       "      <th>0</th>\n",
       "      <td>1995-01-02</td>\n",
       "      <td>0.010</td>\n",
       "      <td>0.010</td>\n",
       "      <td>0.010</td>\n",
       "      <td>0.010</td>\n",
       "      <td>0</td>\n",
       "      <td>BRL</td>\n",
       "      <td>AALR3</td>\n",
       "    </tr>\n",
       "    <tr>\n",
       "      <th>1</th>\n",
       "      <td>1995-01-03</td>\n",
       "      <td>0.010</td>\n",
       "      <td>0.010</td>\n",
       "      <td>0.010</td>\n",
       "      <td>0.010</td>\n",
       "      <td>0</td>\n",
       "      <td>BRL</td>\n",
       "      <td>AALR3</td>\n",
       "    </tr>\n",
       "    <tr>\n",
       "      <th>2</th>\n",
       "      <td>1995-01-04</td>\n",
       "      <td>0.000</td>\n",
       "      <td>0.000</td>\n",
       "      <td>0.000</td>\n",
       "      <td>0.000</td>\n",
       "      <td>0</td>\n",
       "      <td>BRL</td>\n",
       "      <td>AALR3</td>\n",
       "    </tr>\n",
       "    <tr>\n",
       "      <th>3</th>\n",
       "      <td>1995-01-05</td>\n",
       "      <td>0.000</td>\n",
       "      <td>0.000</td>\n",
       "      <td>0.000</td>\n",
       "      <td>0.000</td>\n",
       "      <td>0</td>\n",
       "      <td>BRL</td>\n",
       "      <td>AALR3</td>\n",
       "    </tr>\n",
       "    <tr>\n",
       "      <th>4</th>\n",
       "      <td>1995-01-06</td>\n",
       "      <td>0.000</td>\n",
       "      <td>0.000</td>\n",
       "      <td>0.000</td>\n",
       "      <td>0.000</td>\n",
       "      <td>0</td>\n",
       "      <td>BRL</td>\n",
       "      <td>AALR3</td>\n",
       "    </tr>\n",
       "  </tbody>\n",
       "</table>\n",
       "</div>"
      ],
      "text/plain": [
       "                  Date  Open  High   Low  Close  Volume Currency symbol\n",
       "day_of_week                                                            \n",
       "0           1995-01-02 0.010 0.010 0.010  0.010       0      BRL  AALR3\n",
       "1           1995-01-03 0.010 0.010 0.010  0.010       0      BRL  AALR3\n",
       "2           1995-01-04 0.000 0.000 0.000  0.000       0      BRL  AALR3\n",
       "3           1995-01-05 0.000 0.000 0.000  0.000       0      BRL  AALR3\n",
       "4           1995-01-06 0.000 0.000 0.000  0.000       0      BRL  AALR3"
      ]
     },
     "execution_count": 70,
     "metadata": {},
     "output_type": "execute_result"
    }
   ],
   "source": [
    "# seeing the minimum value in each day of week\n",
    "dataset.groupby(by=['day_of_week']).min().head(10)"
   ]
  },
  {
   "cell_type": "markdown",
   "id": "f520725a",
   "metadata": {},
   "source": [
    "There are zero in all day of week registered, why?"
   ]
  }
 ],
 "metadata": {
  "kernelspec": {
   "display_name": "Python 3",
   "language": "python",
   "name": "python3"
  },
  "language_info": {
   "codemirror_mode": {
    "name": "ipython",
    "version": 3
   },
   "file_extension": ".py",
   "mimetype": "text/x-python",
   "name": "python",
   "nbconvert_exporter": "python",
   "pygments_lexer": "ipython3",
   "version": "3.9.5"
  }
 },
 "nbformat": 4,
 "nbformat_minor": 5
}
