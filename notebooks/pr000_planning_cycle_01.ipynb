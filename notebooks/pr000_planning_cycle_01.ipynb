{
 "cells": [
  {
   "cell_type": "markdown",
   "id": "1d8904e7",
   "metadata": {},
   "source": [
    "Planning\n",
    "\n",
    "- Finding best way of API to get finances information\n",
    "- Create a data extraction process\n",
    "- listing rank of the best stock and chosen them\n",
    "- create a first solution faster"
   ]
  },
  {
   "cell_type": "markdown",
   "id": "91174aef",
   "metadata": {},
   "source": [
    "# 1.0 - Packages"
   ]
  },
  {
   "cell_type": "markdown",
   "id": "fb79bb1e",
   "metadata": {},
   "source": [
    "## 1.1 - Libraries"
   ]
  },
  {
   "cell_type": "code",
   "execution_count": 2,
   "id": "241be5fe",
   "metadata": {
    "ExecuteTime": {
     "end_time": "2021-07-07T22:29:12.795891Z",
     "start_time": "2021-07-07T22:29:11.501019Z"
    }
   },
   "outputs": [],
   "source": [
    "# data manipulation\n",
    "import pandas as pd\n",
    "# API to get finances data\n",
    "import pandas_finance as pdf\n",
    "## from pandas_finance import Equity\n",
    "import yfinance as yf\n",
    "# data visualization\n",
    "import matplotlib.pyplot as plt\n",
    "import seaborn as sns\n",
    "# jupyter viewer\n",
    "from IPython.core.display import display, HTML"
   ]
  },
  {
   "cell_type": "markdown",
   "id": "d093f014",
   "metadata": {},
   "source": [
    "## 1.2 - Helper Functions"
   ]
  },
  {
   "cell_type": "code",
   "execution_count": 3,
   "id": "c8859265",
   "metadata": {
    "ExecuteTime": {
     "end_time": "2021-07-07T22:29:17.335959Z",
     "start_time": "2021-07-07T22:29:17.263930Z"
    }
   },
   "outputs": [
    {
     "name": "stdout",
     "output_type": "stream",
     "text": [
      "Populating the interactive namespace from numpy and matplotlib\n"
     ]
    },
    {
     "data": {
      "text/html": [
       "<style>.conteiner{width:100% !important;}</style>"
      ],
      "text/plain": [
       "<IPython.core.display.HTML object>"
      ]
     },
     "metadata": {},
     "output_type": "display_data"
    }
   ],
   "source": [
    "def jupyter_settings():\n",
    "    # mostrar o gráfico na célula\n",
    "    %matplotlib inline\n",
    "    %pylab inline\t\n",
    "    # tamanho dos gráficos para o matplotlib\n",
    "    plt.style.use('bmh')\n",
    "    plt.rcParams['figure.figsize'] = [25, 12]\n",
    "    plt.rcParams['font.size'] = 20\n",
    "    # colocando para aparecer todas as colunas e linhas\n",
    "    pd.options.display.max_columns = None\n",
    "    pd.options.display.max_rows = None\n",
    "    pd.set_option('display.expand_frame_repr', False)\n",
    "    # expandir a visualização da tela em 100%, como se fosse um zoom\n",
    "    display(HTML('<style>.conteiner{width:100% !important;}</style>'))\n",
    "\n",
    "    #aplicar as mesmas configurações no seaborn\n",
    "    sns.set()\n",
    "\n",
    "jupyter_settings()"
   ]
  },
  {
   "cell_type": "markdown",
   "id": "491e7b7b",
   "metadata": {},
   "source": [
    "# 2.0 - ELT - Extraction Load and Transformation"
   ]
  },
  {
   "cell_type": "markdown",
   "id": "5f710ac2",
   "metadata": {},
   "source": [
    "- Steps:\n",
    "    - [x] Find the APIs that we can use from\n",
    "        - investy + yfinance + pandas_datareader\n",
    "    - [x] Get a list of symbols per country\n",
    "    - [x] Get a simple historical data values from country list\n",
    "    - [ ] Get a ranking of best stock to predict a close price\n",
    "        - [ ] Anual moving average of growth percentual\n",
    "    - [ ] Loading data to cloud"
   ]
  },
  {
   "cell_type": "markdown",
   "id": "6f95fb63",
   "metadata": {},
   "source": [
    "## 2.1 - Extraction"
   ]
  },
  {
   "cell_type": "markdown",
   "id": "3a90b1d7",
   "metadata": {
    "heading_collapsed": true
   },
   "source": [
    "### 2.1.1 - Taking a look at all APIs"
   ]
  },
  {
   "cell_type": "markdown",
   "id": "c8381e3c",
   "metadata": {
    "hidden": true
   },
   "source": [
    "- pandas_finance: didn't run\n",
    "- yfinance: first\n",
    "- pandas: didn't run\n",
    "- pandas_datareader: second \n",
    "- investpy: better until now"
   ]
  },
  {
   "cell_type": "code",
   "execution_count": 179,
   "id": "aa4dbc13",
   "metadata": {
    "ExecuteTime": {
     "end_time": "2021-07-08T15:21:07.848772Z",
     "start_time": "2021-07-08T15:21:03.605067Z"
    },
    "hidden": true
   },
   "outputs": [
    {
     "data": {
      "text/html": [
       "<div>\n",
       "<style scoped>\n",
       "    .dataframe tbody tr th:only-of-type {\n",
       "        vertical-align: middle;\n",
       "    }\n",
       "\n",
       "    .dataframe tbody tr th {\n",
       "        vertical-align: top;\n",
       "    }\n",
       "\n",
       "    .dataframe thead th {\n",
       "        text-align: right;\n",
       "    }\n",
       "</style>\n",
       "<table border=\"1\" class=\"dataframe\">\n",
       "  <thead>\n",
       "    <tr style=\"text-align: right;\">\n",
       "      <th></th>\n",
       "      <th>zip</th>\n",
       "      <th>sector</th>\n",
       "      <th>fullTimeEmployees</th>\n",
       "      <th>longBusinessSummary</th>\n",
       "      <th>city</th>\n",
       "      <th>phone</th>\n",
       "      <th>state</th>\n",
       "      <th>country</th>\n",
       "      <th>companyOfficers</th>\n",
       "      <th>website</th>\n",
       "      <th>maxAge</th>\n",
       "      <th>address1</th>\n",
       "      <th>industry</th>\n",
       "      <th>ebitdaMargins</th>\n",
       "      <th>profitMargins</th>\n",
       "      <th>grossMargins</th>\n",
       "      <th>operatingCashflow</th>\n",
       "      <th>revenueGrowth</th>\n",
       "      <th>operatingMargins</th>\n",
       "      <th>ebitda</th>\n",
       "      <th>targetLowPrice</th>\n",
       "      <th>recommendationKey</th>\n",
       "      <th>grossProfits</th>\n",
       "      <th>freeCashflow</th>\n",
       "      <th>targetMedianPrice</th>\n",
       "      <th>currentPrice</th>\n",
       "      <th>earningsGrowth</th>\n",
       "      <th>currentRatio</th>\n",
       "      <th>returnOnAssets</th>\n",
       "      <th>numberOfAnalystOpinions</th>\n",
       "      <th>targetMeanPrice</th>\n",
       "      <th>debtToEquity</th>\n",
       "      <th>returnOnEquity</th>\n",
       "      <th>targetHighPrice</th>\n",
       "      <th>totalCash</th>\n",
       "      <th>totalDebt</th>\n",
       "      <th>totalRevenue</th>\n",
       "      <th>totalCashPerShare</th>\n",
       "      <th>financialCurrency</th>\n",
       "      <th>revenuePerShare</th>\n",
       "      <th>quickRatio</th>\n",
       "      <th>recommendationMean</th>\n",
       "      <th>exchange</th>\n",
       "      <th>shortName</th>\n",
       "      <th>longName</th>\n",
       "      <th>exchangeTimezoneName</th>\n",
       "      <th>exchangeTimezoneShortName</th>\n",
       "      <th>isEsgPopulated</th>\n",
       "      <th>gmtOffSetMilliseconds</th>\n",
       "      <th>quoteType</th>\n",
       "      <th>symbol</th>\n",
       "      <th>messageBoardId</th>\n",
       "      <th>market</th>\n",
       "      <th>annualHoldingsTurnover</th>\n",
       "      <th>enterpriseToRevenue</th>\n",
       "      <th>beta3Year</th>\n",
       "      <th>enterpriseToEbitda</th>\n",
       "      <th>52WeekChange</th>\n",
       "      <th>morningStarRiskRating</th>\n",
       "      <th>forwardEps</th>\n",
       "      <th>revenueQuarterlyGrowth</th>\n",
       "      <th>sharesOutstanding</th>\n",
       "      <th>fundInceptionDate</th>\n",
       "      <th>annualReportExpenseRatio</th>\n",
       "      <th>totalAssets</th>\n",
       "      <th>bookValue</th>\n",
       "      <th>sharesShort</th>\n",
       "      <th>sharesPercentSharesOut</th>\n",
       "      <th>fundFamily</th>\n",
       "      <th>lastFiscalYearEnd</th>\n",
       "      <th>heldPercentInstitutions</th>\n",
       "      <th>netIncomeToCommon</th>\n",
       "      <th>trailingEps</th>\n",
       "      <th>lastDividendValue</th>\n",
       "      <th>SandP52WeekChange</th>\n",
       "      <th>priceToBook</th>\n",
       "      <th>heldPercentInsiders</th>\n",
       "      <th>nextFiscalYearEnd</th>\n",
       "      <th>yield</th>\n",
       "      <th>mostRecentQuarter</th>\n",
       "      <th>shortRatio</th>\n",
       "      <th>sharesShortPreviousMonthDate</th>\n",
       "      <th>floatShares</th>\n",
       "      <th>beta</th>\n",
       "      <th>enterpriseValue</th>\n",
       "      <th>priceHint</th>\n",
       "      <th>threeYearAverageReturn</th>\n",
       "      <th>lastSplitDate</th>\n",
       "      <th>lastSplitFactor</th>\n",
       "      <th>legalType</th>\n",
       "      <th>lastDividendDate</th>\n",
       "      <th>morningStarOverallRating</th>\n",
       "      <th>earningsQuarterlyGrowth</th>\n",
       "      <th>priceToSalesTrailing12Months</th>\n",
       "      <th>dateShortInterest</th>\n",
       "      <th>pegRatio</th>\n",
       "      <th>ytdReturn</th>\n",
       "      <th>forwardPE</th>\n",
       "      <th>lastCapGain</th>\n",
       "      <th>shortPercentOfFloat</th>\n",
       "      <th>sharesShortPriorMonth</th>\n",
       "      <th>impliedSharesOutstanding</th>\n",
       "      <th>category</th>\n",
       "      <th>fiveYearAverageReturn</th>\n",
       "      <th>previousClose</th>\n",
       "      <th>regularMarketOpen</th>\n",
       "      <th>twoHundredDayAverage</th>\n",
       "      <th>trailingAnnualDividendYield</th>\n",
       "      <th>payoutRatio</th>\n",
       "      <th>volume24Hr</th>\n",
       "      <th>regularMarketDayHigh</th>\n",
       "      <th>navPrice</th>\n",
       "      <th>averageDailyVolume10Day</th>\n",
       "      <th>regularMarketPreviousClose</th>\n",
       "      <th>fiftyDayAverage</th>\n",
       "      <th>trailingAnnualDividendRate</th>\n",
       "      <th>open</th>\n",
       "      <th>toCurrency</th>\n",
       "      <th>averageVolume10days</th>\n",
       "      <th>expireDate</th>\n",
       "      <th>algorithm</th>\n",
       "      <th>dividendRate</th>\n",
       "      <th>exDividendDate</th>\n",
       "      <th>circulatingSupply</th>\n",
       "      <th>startDate</th>\n",
       "      <th>regularMarketDayLow</th>\n",
       "      <th>currency</th>\n",
       "      <th>trailingPE</th>\n",
       "      <th>regularMarketVolume</th>\n",
       "      <th>lastMarket</th>\n",
       "      <th>maxSupply</th>\n",
       "      <th>openInterest</th>\n",
       "      <th>marketCap</th>\n",
       "      <th>volumeAllCurrencies</th>\n",
       "      <th>strikePrice</th>\n",
       "      <th>averageVolume</th>\n",
       "      <th>dayLow</th>\n",
       "      <th>ask</th>\n",
       "      <th>askSize</th>\n",
       "      <th>volume</th>\n",
       "      <th>fiftyTwoWeekHigh</th>\n",
       "      <th>fromCurrency</th>\n",
       "      <th>fiveYearAvgDividendYield</th>\n",
       "      <th>fiftyTwoWeekLow</th>\n",
       "      <th>bid</th>\n",
       "      <th>tradeable</th>\n",
       "      <th>dividendYield</th>\n",
       "      <th>bidSize</th>\n",
       "      <th>dayHigh</th>\n",
       "      <th>regularMarketPrice</th>\n",
       "      <th>logo_url</th>\n",
       "    </tr>\n",
       "  </thead>\n",
       "  <tbody>\n",
       "    <tr>\n",
       "      <th>0</th>\n",
       "      <td>98052-6399</td>\n",
       "      <td>Technology</td>\n",
       "      <td>163000</td>\n",
       "      <td>Microsoft Corporation develops, licenses, and ...</td>\n",
       "      <td>Redmond</td>\n",
       "      <td>425 882 8080</td>\n",
       "      <td>WA</td>\n",
       "      <td>United States</td>\n",
       "      <td>[]</td>\n",
       "      <td>http://www.microsoft.com</td>\n",
       "      <td>1</td>\n",
       "      <td>One Microsoft Way</td>\n",
       "      <td>Software—Infrastructure</td>\n",
       "      <td>0.47245</td>\n",
       "      <td>0.35016</td>\n",
       "      <td>0.68381</td>\n",
       "      <td>72703000576</td>\n",
       "      <td>0.191</td>\n",
       "      <td>0.4015</td>\n",
       "      <td>75577999360</td>\n",
       "      <td>256.7</td>\n",
       "      <td>buy</td>\n",
       "      <td>96937000000</td>\n",
       "      <td>37776875520</td>\n",
       "      <td>300</td>\n",
       "      <td>276.39</td>\n",
       "      <td>0.45</td>\n",
       "      <td>2.294</td>\n",
       "      <td>0.13508</td>\n",
       "      <td>33</td>\n",
       "      <td>298.92</td>\n",
       "      <td>60.414</td>\n",
       "      <td>0.44991</td>\n",
       "      <td>340</td>\n",
       "      <td>125013000192</td>\n",
       "      <td>81260003328</td>\n",
       "      <td>159969001472</td>\n",
       "      <td>16.599</td>\n",
       "      <td>USD</td>\n",
       "      <td>21.156</td>\n",
       "      <td>2.096</td>\n",
       "      <td>1.6</td>\n",
       "      <td>NMS</td>\n",
       "      <td>Microsoft Corporation</td>\n",
       "      <td>Microsoft Corporation</td>\n",
       "      <td>America/New_York</td>\n",
       "      <td>EDT</td>\n",
       "      <td>False</td>\n",
       "      <td>-14400000</td>\n",
       "      <td>EQUITY</td>\n",
       "      <td>MSFT</td>\n",
       "      <td>finmb_21835</td>\n",
       "      <td>us_market</td>\n",
       "      <td>None</td>\n",
       "      <td>12.906</td>\n",
       "      <td>None</td>\n",
       "      <td>27.317</td>\n",
       "      <td>0.306131</td>\n",
       "      <td>None</td>\n",
       "      <td>8.37</td>\n",
       "      <td>None</td>\n",
       "      <td>7531570176</td>\n",
       "      <td>None</td>\n",
       "      <td>None</td>\n",
       "      <td>None</td>\n",
       "      <td>17.853</td>\n",
       "      <td>48137624</td>\n",
       "      <td>0.0064</td>\n",
       "      <td>None</td>\n",
       "      <td>1593475200</td>\n",
       "      <td>0.72033</td>\n",
       "      <td>56014999552</td>\n",
       "      <td>7.338</td>\n",
       "      <td>0.56</td>\n",
       "      <td>0.382634</td>\n",
       "      <td>15.481432</td>\n",
       "      <td>0.00072</td>\n",
       "      <td>1656547200</td>\n",
       "      <td>None</td>\n",
       "      <td>1617148800</td>\n",
       "      <td>2.24</td>\n",
       "      <td>1620950400</td>\n",
       "      <td>7420483826</td>\n",
       "      <td>0.787812</td>\n",
       "      <td>2064560685056</td>\n",
       "      <td>2</td>\n",
       "      <td>None</td>\n",
       "      <td>1045526400</td>\n",
       "      <td>2:1</td>\n",
       "      <td>None</td>\n",
       "      <td>1621382400</td>\n",
       "      <td>None</td>\n",
       "      <td>0.438</td>\n",
       "      <td>13.012838</td>\n",
       "      <td>1623715200</td>\n",
       "      <td>2.07</td>\n",
       "      <td>None</td>\n",
       "      <td>33.021507</td>\n",
       "      <td>None</td>\n",
       "      <td>0.0064</td>\n",
       "      <td>40526093</td>\n",
       "      <td>None</td>\n",
       "      <td>None</td>\n",
       "      <td>None</td>\n",
       "      <td>279.93</td>\n",
       "      <td>276.9</td>\n",
       "      <td>243.06728</td>\n",
       "      <td>0.007823</td>\n",
       "      <td>0.2916</td>\n",
       "      <td>None</td>\n",
       "      <td>278.7282</td>\n",
       "      <td>None</td>\n",
       "      <td>22738485</td>\n",
       "      <td>279.93</td>\n",
       "      <td>258.61734</td>\n",
       "      <td>2.19</td>\n",
       "      <td>276.9</td>\n",
       "      <td>None</td>\n",
       "      <td>22738485</td>\n",
       "      <td>None</td>\n",
       "      <td>None</td>\n",
       "      <td>2.24</td>\n",
       "      <td>1629244800</td>\n",
       "      <td>None</td>\n",
       "      <td>None</td>\n",
       "      <td>274.87</td>\n",
       "      <td>USD</td>\n",
       "      <td>37.66558</td>\n",
       "      <td>9910918</td>\n",
       "      <td>None</td>\n",
       "      <td>None</td>\n",
       "      <td>None</td>\n",
       "      <td>2081650769920</td>\n",
       "      <td>None</td>\n",
       "      <td>None</td>\n",
       "      <td>24720690</td>\n",
       "      <td>274.87</td>\n",
       "      <td>275.46</td>\n",
       "      <td>900</td>\n",
       "      <td>9910918</td>\n",
       "      <td>280.69</td>\n",
       "      <td>None</td>\n",
       "      <td>1.57</td>\n",
       "      <td>196.25</td>\n",
       "      <td>275.45</td>\n",
       "      <td>False</td>\n",
       "      <td>0.008</td>\n",
       "      <td>900</td>\n",
       "      <td>278.7282</td>\n",
       "      <td>276.39</td>\n",
       "      <td>https://logo.clearbit.com/microsoft.com</td>\n",
       "    </tr>\n",
       "  </tbody>\n",
       "</table>\n",
       "</div>"
      ],
      "text/plain": [
       "          zip      sector  fullTimeEmployees                                longBusinessSummary     city         phone state        country companyOfficers                   website  maxAge           address1                 industry  ebitdaMargins  profitMargins  grossMargins  operatingCashflow  revenueGrowth  operatingMargins       ebitda  targetLowPrice recommendationKey  grossProfits  freeCashflow  targetMedianPrice  currentPrice  earningsGrowth  currentRatio  returnOnAssets  numberOfAnalystOpinions  targetMeanPrice  debtToEquity  returnOnEquity  targetHighPrice     totalCash    totalDebt  totalRevenue  totalCashPerShare financialCurrency  revenuePerShare  quickRatio  recommendationMean exchange              shortName               longName exchangeTimezoneName exchangeTimezoneShortName  isEsgPopulated gmtOffSetMilliseconds quoteType symbol messageBoardId     market annualHoldingsTurnover  enterpriseToRevenue beta3Year  enterpriseToEbitda  52WeekChange morningStarRiskRating  forwardEps revenueQuarterlyGrowth  sharesOutstanding fundInceptionDate annualReportExpenseRatio totalAssets  bookValue  sharesShort  sharesPercentSharesOut fundFamily  lastFiscalYearEnd  heldPercentInstitutions  netIncomeToCommon  trailingEps  lastDividendValue  SandP52WeekChange  priceToBook  heldPercentInsiders  nextFiscalYearEnd yield  mostRecentQuarter  shortRatio  sharesShortPreviousMonthDate  floatShares      beta  enterpriseValue  priceHint threeYearAverageReturn  lastSplitDate lastSplitFactor legalType  lastDividendDate morningStarOverallRating  earningsQuarterlyGrowth  priceToSalesTrailing12Months  dateShortInterest  pegRatio ytdReturn  forwardPE lastCapGain  shortPercentOfFloat  sharesShortPriorMonth impliedSharesOutstanding category fiveYearAverageReturn  previousClose  regularMarketOpen  twoHundredDayAverage  trailingAnnualDividendYield  payoutRatio volume24Hr  regularMarketDayHigh navPrice  averageDailyVolume10Day  regularMarketPreviousClose  fiftyDayAverage  trailingAnnualDividendRate   open toCurrency  averageVolume10days expireDate algorithm  dividendRate  exDividendDate circulatingSupply startDate  regularMarketDayLow currency  trailingPE  regularMarketVolume lastMarket maxSupply openInterest      marketCap volumeAllCurrencies strikePrice  averageVolume  dayLow     ask  askSize   volume  fiftyTwoWeekHigh fromCurrency  fiveYearAvgDividendYield  fiftyTwoWeekLow     bid  tradeable  dividendYield  bidSize   dayHigh  regularMarketPrice                                 logo_url\n",
       "0  98052-6399  Technology             163000  Microsoft Corporation develops, licenses, and ...  Redmond  425 882 8080    WA  United States              []  http://www.microsoft.com       1  One Microsoft Way  Software—Infrastructure        0.47245        0.35016       0.68381        72703000576          0.191            0.4015  75577999360           256.7               buy   96937000000   37776875520                300        276.39            0.45         2.294         0.13508                       33           298.92        60.414         0.44991              340  125013000192  81260003328  159969001472             16.599               USD           21.156       2.096                 1.6      NMS  Microsoft Corporation  Microsoft Corporation     America/New_York                       EDT           False             -14400000    EQUITY   MSFT    finmb_21835  us_market                   None               12.906      None              27.317      0.306131                  None        8.37                   None         7531570176              None                     None        None     17.853     48137624                  0.0064       None         1593475200                  0.72033        56014999552        7.338               0.56           0.382634    15.481432              0.00072         1656547200  None         1617148800        2.24                    1620950400   7420483826  0.787812    2064560685056          2                   None     1045526400             2:1      None        1621382400                     None                    0.438                     13.012838         1623715200      2.07      None  33.021507        None               0.0064               40526093                     None     None                  None         279.93              276.9             243.06728                     0.007823       0.2916       None              278.7282     None                 22738485                      279.93        258.61734                        2.19  276.9       None             22738485       None      None          2.24      1629244800              None      None               274.87      USD    37.66558              9910918       None      None         None  2081650769920                None        None       24720690  274.87  275.46      900  9910918            280.69         None                      1.57           196.25  275.45      False          0.008      900  278.7282              276.39  https://logo.clearbit.com/microsoft.com"
      ]
     },
     "execution_count": 179,
     "metadata": {},
     "output_type": "execute_result"
    }
   ],
   "source": [
    "# yfinance\n",
    "import yfinance as yf\n",
    "pd.DataFrame([yf.Ticker('msft').info])"
   ]
  },
  {
   "cell_type": "code",
   "execution_count": 178,
   "id": "ab16d2b1",
   "metadata": {
    "ExecuteTime": {
     "end_time": "2021-07-08T15:20:35.703540Z",
     "start_time": "2021-07-08T15:20:35.310479Z"
    },
    "hidden": true
   },
   "outputs": [
    {
     "data": {
      "text/html": [
       "<div>\n",
       "<style scoped>\n",
       "    .dataframe tbody tr th:only-of-type {\n",
       "        vertical-align: middle;\n",
       "    }\n",
       "\n",
       "    .dataframe tbody tr th {\n",
       "        vertical-align: top;\n",
       "    }\n",
       "\n",
       "    .dataframe thead th {\n",
       "        text-align: right;\n",
       "    }\n",
       "</style>\n",
       "<table border=\"1\" class=\"dataframe\">\n",
       "  <thead>\n",
       "    <tr style=\"text-align: right;\">\n",
       "      <th></th>\n",
       "      <th>language</th>\n",
       "      <th>region</th>\n",
       "      <th>quoteType</th>\n",
       "      <th>quoteSourceName</th>\n",
       "      <th>triggerable</th>\n",
       "      <th>currency</th>\n",
       "      <th>shortName</th>\n",
       "      <th>exchange</th>\n",
       "      <th>longName</th>\n",
       "      <th>messageBoardId</th>\n",
       "      <th>exchangeTimezoneName</th>\n",
       "      <th>exchangeTimezoneShortName</th>\n",
       "      <th>gmtOffSetMilliseconds</th>\n",
       "      <th>market</th>\n",
       "      <th>esgPopulated</th>\n",
       "      <th>firstTradeDateMilliseconds</th>\n",
       "      <th>priceHint</th>\n",
       "      <th>regularMarketChange</th>\n",
       "      <th>regularMarketChangePercent</th>\n",
       "      <th>regularMarketTime</th>\n",
       "      <th>regularMarketPrice</th>\n",
       "      <th>regularMarketDayHigh</th>\n",
       "      <th>regularMarketDayRange</th>\n",
       "      <th>regularMarketDayLow</th>\n",
       "      <th>regularMarketVolume</th>\n",
       "      <th>bid</th>\n",
       "      <th>regularMarketPreviousClose</th>\n",
       "      <th>ask</th>\n",
       "      <th>bidSize</th>\n",
       "      <th>askSize</th>\n",
       "      <th>fullExchangeName</th>\n",
       "      <th>financialCurrency</th>\n",
       "      <th>regularMarketOpen</th>\n",
       "      <th>averageDailyVolume3Month</th>\n",
       "      <th>averageDailyVolume10Day</th>\n",
       "      <th>fiftyTwoWeekLowChange</th>\n",
       "      <th>fiftyTwoWeekLowChangePercent</th>\n",
       "      <th>fiftyTwoWeekRange</th>\n",
       "      <th>fiftyTwoWeekHighChange</th>\n",
       "      <th>fiftyTwoWeekHighChangePercent</th>\n",
       "      <th>fiftyTwoWeekLow</th>\n",
       "      <th>fiftyTwoWeekHigh</th>\n",
       "      <th>dividendDate</th>\n",
       "      <th>earningsTimestamp</th>\n",
       "      <th>earningsTimestampStart</th>\n",
       "      <th>earningsTimestampEnd</th>\n",
       "      <th>trailingAnnualDividendRate</th>\n",
       "      <th>trailingPE</th>\n",
       "      <th>trailingAnnualDividendYield</th>\n",
       "      <th>epsTrailingTwelveMonths</th>\n",
       "      <th>epsForward</th>\n",
       "      <th>epsCurrentYear</th>\n",
       "      <th>priceEpsCurrentYear</th>\n",
       "      <th>sharesOutstanding</th>\n",
       "      <th>bookValue</th>\n",
       "      <th>fiftyDayAverage</th>\n",
       "      <th>fiftyDayAverageChange</th>\n",
       "      <th>fiftyDayAverageChangePercent</th>\n",
       "      <th>twoHundredDayAverage</th>\n",
       "      <th>marketCap</th>\n",
       "      <th>marketState</th>\n",
       "      <th>twoHundredDayAverageChange</th>\n",
       "      <th>twoHundredDayAverageChangePercent</th>\n",
       "      <th>forwardPE</th>\n",
       "      <th>priceToBook</th>\n",
       "      <th>sourceInterval</th>\n",
       "      <th>exchangeDataDelayedBy</th>\n",
       "      <th>averageAnalystRating</th>\n",
       "      <th>tradeable</th>\n",
       "      <th>displayName</th>\n",
       "      <th>price</th>\n",
       "    </tr>\n",
       "  </thead>\n",
       "  <tbody>\n",
       "    <tr>\n",
       "      <th>MSFT</th>\n",
       "      <td>en-US</td>\n",
       "      <td>US</td>\n",
       "      <td>EQUITY</td>\n",
       "      <td>Nasdaq Real Time Price</td>\n",
       "      <td>True</td>\n",
       "      <td>USD</td>\n",
       "      <td>Microsoft Corporation</td>\n",
       "      <td>NMS</td>\n",
       "      <td>Microsoft Corporation</td>\n",
       "      <td>finmb_21835</td>\n",
       "      <td>America/New_York</td>\n",
       "      <td>EDT</td>\n",
       "      <td>-14400000</td>\n",
       "      <td>us_market</td>\n",
       "      <td>False</td>\n",
       "      <td>511108200000</td>\n",
       "      <td>2</td>\n",
       "      <td>-3.544006</td>\n",
       "      <td>-1.266033</td>\n",
       "      <td>1625757633</td>\n",
       "      <td>276.386</td>\n",
       "      <td>278.7282</td>\n",
       "      <td>274.87 - 278.7282</td>\n",
       "      <td>274.87</td>\n",
       "      <td>9896981</td>\n",
       "      <td>275.45</td>\n",
       "      <td>279.93</td>\n",
       "      <td>275.46</td>\n",
       "      <td>9</td>\n",
       "      <td>9</td>\n",
       "      <td>NasdaqGS</td>\n",
       "      <td>USD</td>\n",
       "      <td>276.9</td>\n",
       "      <td>24720690</td>\n",
       "      <td>22738485</td>\n",
       "      <td>80.13599</td>\n",
       "      <td>0.408336</td>\n",
       "      <td>196.25 - 280.69</td>\n",
       "      <td>-4.304016</td>\n",
       "      <td>-0.015334</td>\n",
       "      <td>196.25</td>\n",
       "      <td>280.69</td>\n",
       "      <td>1631145600</td>\n",
       "      <td>1627383540</td>\n",
       "      <td>1627383540</td>\n",
       "      <td>1627383540</td>\n",
       "      <td>2.19</td>\n",
       "      <td>37.66503</td>\n",
       "      <td>0.007823</td>\n",
       "      <td>7.338</td>\n",
       "      <td>8.37</td>\n",
       "      <td>7.77</td>\n",
       "      <td>35.57091</td>\n",
       "      <td>7531570176</td>\n",
       "      <td>17.853</td>\n",
       "      <td>258.61734</td>\n",
       "      <td>17.768646</td>\n",
       "      <td>0.068706</td>\n",
       "      <td>243.06728</td>\n",
       "      <td>2081620492288</td>\n",
       "      <td>REGULAR</td>\n",
       "      <td>33.31871</td>\n",
       "      <td>0.137076</td>\n",
       "      <td>33.021027</td>\n",
       "      <td>15.481206</td>\n",
       "      <td>15</td>\n",
       "      <td>0</td>\n",
       "      <td>1.6 - Buy</td>\n",
       "      <td>False</td>\n",
       "      <td>Microsoft</td>\n",
       "      <td>276.386</td>\n",
       "    </tr>\n",
       "  </tbody>\n",
       "</table>\n",
       "</div>"
      ],
      "text/plain": [
       "     language region quoteType         quoteSourceName  triggerable currency              shortName exchange               longName messageBoardId exchangeTimezoneName exchangeTimezoneShortName  gmtOffSetMilliseconds     market  esgPopulated  firstTradeDateMilliseconds  priceHint  regularMarketChange  regularMarketChangePercent  regularMarketTime  regularMarketPrice  regularMarketDayHigh regularMarketDayRange  regularMarketDayLow  regularMarketVolume     bid  regularMarketPreviousClose     ask  bidSize  askSize fullExchangeName financialCurrency  regularMarketOpen  averageDailyVolume3Month  averageDailyVolume10Day  fiftyTwoWeekLowChange  fiftyTwoWeekLowChangePercent fiftyTwoWeekRange  fiftyTwoWeekHighChange  fiftyTwoWeekHighChangePercent  fiftyTwoWeekLow  fiftyTwoWeekHigh  dividendDate  earningsTimestamp  earningsTimestampStart  earningsTimestampEnd  trailingAnnualDividendRate  trailingPE  trailingAnnualDividendYield  epsTrailingTwelveMonths  epsForward  epsCurrentYear  priceEpsCurrentYear  sharesOutstanding  bookValue  fiftyDayAverage  fiftyDayAverageChange  fiftyDayAverageChangePercent  twoHundredDayAverage      marketCap marketState  twoHundredDayAverageChange  twoHundredDayAverageChangePercent  forwardPE  priceToBook  sourceInterval  exchangeDataDelayedBy averageAnalystRating  tradeable displayName    price\n",
       "MSFT    en-US     US    EQUITY  Nasdaq Real Time Price         True      USD  Microsoft Corporation      NMS  Microsoft Corporation    finmb_21835     America/New_York                       EDT              -14400000  us_market         False                511108200000          2            -3.544006                   -1.266033         1625757633             276.386              278.7282     274.87 - 278.7282               274.87              9896981  275.45                      279.93  275.46        9        9         NasdaqGS               USD              276.9                  24720690                 22738485               80.13599                      0.408336   196.25 - 280.69               -4.304016                      -0.015334           196.25            280.69    1631145600         1627383540              1627383540            1627383540                        2.19    37.66503                     0.007823                    7.338        8.37            7.77             35.57091         7531570176     17.853        258.61734              17.768646                      0.068706             243.06728  2081620492288     REGULAR                    33.31871                           0.137076  33.021027    15.481206              15                      0            1.6 - Buy      False   Microsoft  276.386"
      ]
     },
     "execution_count": 178,
     "metadata": {},
     "output_type": "execute_result"
    }
   ],
   "source": [
    "# There are some columns to concateneted with yfinance\n",
    "import pandas_datareader as pdr\n",
    "pdr.get_quote_yahoo('msft')"
   ]
  },
  {
   "cell_type": "code",
   "execution_count": 123,
   "id": "3c88b4d9",
   "metadata": {
    "ExecuteTime": {
     "end_time": "2021-07-08T12:51:01.268491Z",
     "start_time": "2021-07-08T12:50:57.044779Z"
    },
    "hidden": true
   },
   "outputs": [],
   "source": [
    "# investpy\n",
    "import investpy as inv\n",
    "\n",
    "stocks_brazil = inv.get_stocks_list(country='brazil')\n",
    "historical_stock_brazil = inv.get_stock_historical_data(stock=stocks_brazil[0], country='brazil', from_date='01/01/1990', to_date='08/07/2021')"
   ]
  },
  {
   "cell_type": "code",
   "execution_count": 126,
   "id": "cfd20ea6",
   "metadata": {
    "ExecuteTime": {
     "end_time": "2021-07-08T12:52:30.274018Z",
     "start_time": "2021-07-08T12:52:21.144930Z"
    },
    "hidden": true
   },
   "outputs": [
    {
     "data": {
      "text/html": [
       "<div>\n",
       "<style scoped>\n",
       "    .dataframe tbody tr th:only-of-type {\n",
       "        vertical-align: middle;\n",
       "    }\n",
       "\n",
       "    .dataframe tbody tr th {\n",
       "        vertical-align: top;\n",
       "    }\n",
       "\n",
       "    .dataframe thead th {\n",
       "        text-align: right;\n",
       "    }\n",
       "</style>\n",
       "<table border=\"1\" class=\"dataframe\">\n",
       "  <thead>\n",
       "    <tr style=\"text-align: right;\">\n",
       "      <th></th>\n",
       "      <th>country</th>\n",
       "      <th>name</th>\n",
       "      <th>symbol</th>\n",
       "      <th>last</th>\n",
       "      <th>high</th>\n",
       "      <th>low</th>\n",
       "      <th>change</th>\n",
       "      <th>change_percentage</th>\n",
       "      <th>turnover</th>\n",
       "      <th>currency</th>\n",
       "    </tr>\n",
       "  </thead>\n",
       "  <tbody>\n",
       "    <tr>\n",
       "      <th>0</th>\n",
       "      <td>brazil</td>\n",
       "      <td>ABC BRASIL PN</td>\n",
       "      <td>ABCB4</td>\n",
       "      <td>15.24</td>\n",
       "      <td>15.31</td>\n",
       "      <td>14.89</td>\n",
       "      <td>+0.07</td>\n",
       "      <td>+0.46%</td>\n",
       "      <td>873000</td>\n",
       "      <td>BRL</td>\n",
       "    </tr>\n",
       "    <tr>\n",
       "      <th>1</th>\n",
       "      <td>brazil</td>\n",
       "      <td>BRASILAGRO ON</td>\n",
       "      <td>AGRO3</td>\n",
       "      <td>30.40</td>\n",
       "      <td>30.48</td>\n",
       "      <td>29.59</td>\n",
       "      <td>+0.31</td>\n",
       "      <td>+1.03%</td>\n",
       "      <td>515799</td>\n",
       "      <td>BRL</td>\n",
       "    </tr>\n",
       "    <tr>\n",
       "      <th>2</th>\n",
       "      <td>brazil</td>\n",
       "      <td>RUMO ON NM</td>\n",
       "      <td>RAIL3</td>\n",
       "      <td>20.27</td>\n",
       "      <td>20.39</td>\n",
       "      <td>19.55</td>\n",
       "      <td>+0.91</td>\n",
       "      <td>+4.70%</td>\n",
       "      <td>11400000</td>\n",
       "      <td>BRL</td>\n",
       "    </tr>\n",
       "    <tr>\n",
       "      <th>3</th>\n",
       "      <td>brazil</td>\n",
       "      <td>ALPARGATAS ON</td>\n",
       "      <td>ALPA3</td>\n",
       "      <td>46.61</td>\n",
       "      <td>46.73</td>\n",
       "      <td>44.70</td>\n",
       "      <td>+1.16</td>\n",
       "      <td>+2.55%</td>\n",
       "      <td>6700</td>\n",
       "      <td>BRL</td>\n",
       "    </tr>\n",
       "    <tr>\n",
       "      <th>4</th>\n",
       "      <td>brazil</td>\n",
       "      <td>ALPARGATAS PN</td>\n",
       "      <td>ALPA4</td>\n",
       "      <td>53.40</td>\n",
       "      <td>53.97</td>\n",
       "      <td>52.63</td>\n",
       "      <td>+0.73</td>\n",
       "      <td>+1.39%</td>\n",
       "      <td>1690000</td>\n",
       "      <td>BRL</td>\n",
       "    </tr>\n",
       "  </tbody>\n",
       "</table>\n",
       "</div>"
      ],
      "text/plain": [
       "  country           name symbol   last   high    low change change_percentage  turnover currency\n",
       "0  brazil  ABC BRASIL PN  ABCB4  15.24  15.31  14.89  +0.07            +0.46%    873000      BRL\n",
       "1  brazil  BRASILAGRO ON  AGRO3  30.40  30.48  29.59  +0.31            +1.03%    515799      BRL\n",
       "2  brazil     RUMO ON NM  RAIL3  20.27  20.39  19.55  +0.91            +4.70%  11400000      BRL\n",
       "3  brazil  ALPARGATAS ON  ALPA3  46.61  46.73  44.70  +1.16            +2.55%      6700      BRL\n",
       "4  brazil  ALPARGATAS PN  ALPA4  53.40  53.97  52.63  +0.73            +1.39%   1690000      BRL"
      ]
     },
     "execution_count": 126,
     "metadata": {},
     "output_type": "execute_result"
    }
   ],
   "source": [
    "inv.get_stocks_overview('brazil').head()"
   ]
  },
  {
   "cell_type": "markdown",
   "id": "ba1e8564",
   "metadata": {},
   "source": [
    "### 2.1.2 - Execution"
   ]
  },
  {
   "cell_type": "code",
   "execution_count": 190,
   "id": "9125be1e",
   "metadata": {
    "ExecuteTime": {
     "end_time": "2021-07-09T12:49:15.898940Z",
     "start_time": "2021-07-09T12:49:15.879451Z"
    }
   },
   "outputs": [],
   "source": [
    "from datetime import datetime\n",
    "\n",
    "# creating a fixed from_date and end_date \n",
    "day = str(datetime.today().date().day)\n",
    "month = str(datetime.today().date().month)\n",
    "year = str(datetime.today().date().year)\n",
    "to_date = day + '/' + month + '/' + year # getting day equal today\n",
    "from_date = '01/01/1990'                 # getting  1990 as from"
   ]
  },
  {
   "cell_type": "code",
   "execution_count": 201,
   "id": "b4e0fe9d",
   "metadata": {
    "ExecuteTime": {
     "end_time": "2021-07-09T14:25:38.826399Z",
     "start_time": "2021-07-09T14:25:36.704121Z"
    }
   },
   "outputs": [],
   "source": [
    "# getting a profile about company like a summary\n",
    "profile = inv.get_stock_company_profile(stock=stocks_brazil[0], country='brazil')"
   ]
  },
  {
   "cell_type": "code",
   "execution_count": 188,
   "id": "9c99c99c",
   "metadata": {
    "ExecuteTime": {
     "end_time": "2021-07-09T12:46:24.135834Z",
     "start_time": "2021-07-09T12:46:23.634018Z"
    }
   },
   "outputs": [
    {
     "name": "stdout",
     "output_type": "stream",
     "text": [
      "749 Stocks listed in brazil\n",
      "5200 Funds listed in brazil\n"
     ]
    }
   ],
   "source": [
    "# Get a list of symbols of stocks and funds per country\n",
    "stocks_brazil = inv.get_stocks_list(country='brazil')\n",
    "funds_brazil = inv.get_funds_list(country='brazil')\n",
    "print(f'{len(stocks_brazil)} Stocks listed in brazil')\n",
    "print(f'{len(funds_brazil)} Funds listed in brazil')\n",
    "# Get a simple historical data values from country list\n",
    "\n",
    "# Get a ranking of best stock and fund order by moving average\n",
    "# Concatened all APIs and load to some place."
   ]
  },
  {
   "cell_type": "code",
   "execution_count": 226,
   "id": "f2d63096",
   "metadata": {
    "ExecuteTime": {
     "end_time": "2021-07-09T14:40:56.606906Z",
     "start_time": "2021-07-09T14:40:51.155085Z"
    }
   },
   "outputs": [
    {
     "data": {
      "text/html": [
       "<div>\n",
       "<style scoped>\n",
       "    .dataframe tbody tr th:only-of-type {\n",
       "        vertical-align: middle;\n",
       "    }\n",
       "\n",
       "    .dataframe tbody tr th {\n",
       "        vertical-align: top;\n",
       "    }\n",
       "\n",
       "    .dataframe thead th {\n",
       "        text-align: right;\n",
       "    }\n",
       "</style>\n",
       "<table border=\"1\" class=\"dataframe\">\n",
       "  <thead>\n",
       "    <tr style=\"text-align: right;\">\n",
       "      <th></th>\n",
       "      <th>country</th>\n",
       "      <th>name</th>\n",
       "      <th>full_name</th>\n",
       "      <th>isin</th>\n",
       "      <th>currency</th>\n",
       "      <th>symbol</th>\n",
       "    </tr>\n",
       "  </thead>\n",
       "  <tbody>\n",
       "    <tr>\n",
       "      <th>0</th>\n",
       "      <td>brazil</td>\n",
       "      <td>ABC BRASIL PN</td>\n",
       "      <td>Banco ABC Brasil SA</td>\n",
       "      <td>BRABCBACNPR4</td>\n",
       "      <td>BRL</td>\n",
       "      <td>ABCB4</td>\n",
       "    </tr>\n",
       "  </tbody>\n",
       "</table>\n",
       "</div>"
      ],
      "text/plain": [
       "  country           name            full_name          isin currency symbol\n",
       "0  brazil  ABC BRASIL PN  Banco ABC Brasil SA  BRABCBACNPR4      BRL  ABCB4"
      ]
     },
     "execution_count": 226,
     "metadata": {},
     "output_type": "execute_result"
    }
   ],
   "source": [
    "stock_description = inv.get_stocks(country='brazil').head()\n",
    "stock_financial_summary = inv.get_stock_financial_summary(stock_description.loc[0, 'symbol'], country='brazil')\n",
    "stock_historical_data = inv.stocks.get_stock_historical_data(stock=stock_description.loc[0, 'symbol'], \n",
    "                        country='brazil', from_date=from_date, to_date=to_date).tail()\n",
    "stock_description.head(1)"
   ]
  },
  {
   "cell_type": "code",
   "execution_count": 233,
   "id": "0008af42",
   "metadata": {
    "ExecuteTime": {
     "end_time": "2021-07-09T14:44:43.485668Z",
     "start_time": "2021-07-09T14:44:43.467279Z"
    }
   },
   "outputs": [
    {
     "data": {
      "text/html": [
       "<div>\n",
       "<style scoped>\n",
       "    .dataframe tbody tr th:only-of-type {\n",
       "        vertical-align: middle;\n",
       "    }\n",
       "\n",
       "    .dataframe tbody tr th {\n",
       "        vertical-align: top;\n",
       "    }\n",
       "\n",
       "    .dataframe thead th {\n",
       "        text-align: right;\n",
       "    }\n",
       "</style>\n",
       "<table border=\"1\" class=\"dataframe\">\n",
       "  <thead>\n",
       "    <tr style=\"text-align: right;\">\n",
       "      <th></th>\n",
       "      <th>Total Revenue</th>\n",
       "      <th>Net Income</th>\n",
       "    </tr>\n",
       "    <tr>\n",
       "      <th>Date</th>\n",
       "      <th></th>\n",
       "      <th></th>\n",
       "    </tr>\n",
       "  </thead>\n",
       "  <tbody>\n",
       "    <tr>\n",
       "      <th>2020-12-31</th>\n",
       "      <td>6216.37</td>\n",
       "      <td>449.98</td>\n",
       "    </tr>\n",
       "    <tr>\n",
       "      <th>2019-12-31</th>\n",
       "      <td>3036.44</td>\n",
       "      <td>672.91</td>\n",
       "    </tr>\n",
       "    <tr>\n",
       "      <th>2018-12-31</th>\n",
       "      <td>3620.87</td>\n",
       "      <td>561.31</td>\n",
       "    </tr>\n",
       "    <tr>\n",
       "      <th>2017-12-31</th>\n",
       "      <td>2997.49</td>\n",
       "      <td>543.63</td>\n",
       "    </tr>\n",
       "  </tbody>\n",
       "</table>\n",
       "</div>"
      ],
      "text/plain": [
       "            Total Revenue  Net Income\n",
       "Date                                 \n",
       "2020-12-31        6216.37      449.98\n",
       "2019-12-31        3036.44      672.91\n",
       "2018-12-31        3620.87      561.31\n",
       "2017-12-31        2997.49      543.63"
      ]
     },
     "execution_count": 233,
     "metadata": {},
     "output_type": "execute_result"
    }
   ],
   "source": [
    "stock_financial_summary"
   ]
  },
  {
   "cell_type": "code",
   "execution_count": null,
   "id": "c260b3b6",
   "metadata": {},
   "outputs": [],
   "source": []
  },
  {
   "cell_type": "code",
   "execution_count": 228,
   "id": "f90d1cfd",
   "metadata": {
    "ExecuteTime": {
     "end_time": "2021-07-09T14:40:57.540653Z",
     "start_time": "2021-07-09T14:40:56.623349Z"
    }
   },
   "outputs": [
    {
     "data": {
      "text/html": [
       "<div>\n",
       "<style scoped>\n",
       "    .dataframe tbody tr th:only-of-type {\n",
       "        vertical-align: middle;\n",
       "    }\n",
       "\n",
       "    .dataframe tbody tr th {\n",
       "        vertical-align: top;\n",
       "    }\n",
       "\n",
       "    .dataframe thead th {\n",
       "        text-align: right;\n",
       "    }\n",
       "</style>\n",
       "<table border=\"1\" class=\"dataframe\">\n",
       "  <thead>\n",
       "    <tr style=\"text-align: right;\">\n",
       "      <th></th>\n",
       "      <th>Open</th>\n",
       "      <th>High</th>\n",
       "      <th>Low</th>\n",
       "      <th>Close</th>\n",
       "      <th>Volume</th>\n",
       "      <th>Currency</th>\n",
       "    </tr>\n",
       "    <tr>\n",
       "      <th>Date</th>\n",
       "      <th></th>\n",
       "      <th></th>\n",
       "      <th></th>\n",
       "      <th></th>\n",
       "      <th></th>\n",
       "      <th></th>\n",
       "    </tr>\n",
       "  </thead>\n",
       "  <tbody>\n",
       "    <tr>\n",
       "      <th>2021-07-02</th>\n",
       "      <td>15.22</td>\n",
       "      <td>15.59</td>\n",
       "      <td>15.19</td>\n",
       "      <td>15.50</td>\n",
       "      <td>1848000</td>\n",
       "      <td>BRL</td>\n",
       "    </tr>\n",
       "    <tr>\n",
       "      <th>2021-07-05</th>\n",
       "      <td>15.45</td>\n",
       "      <td>15.75</td>\n",
       "      <td>15.38</td>\n",
       "      <td>15.57</td>\n",
       "      <td>577000</td>\n",
       "      <td>BRL</td>\n",
       "    </tr>\n",
       "    <tr>\n",
       "      <th>2021-07-06</th>\n",
       "      <td>15.57</td>\n",
       "      <td>15.58</td>\n",
       "      <td>15.08</td>\n",
       "      <td>15.17</td>\n",
       "      <td>755700</td>\n",
       "      <td>BRL</td>\n",
       "    </tr>\n",
       "    <tr>\n",
       "      <th>2021-07-07</th>\n",
       "      <td>15.31</td>\n",
       "      <td>15.31</td>\n",
       "      <td>14.89</td>\n",
       "      <td>15.24</td>\n",
       "      <td>873000</td>\n",
       "      <td>BRL</td>\n",
       "    </tr>\n",
       "    <tr>\n",
       "      <th>2021-07-08</th>\n",
       "      <td>15.02</td>\n",
       "      <td>15.11</td>\n",
       "      <td>14.90</td>\n",
       "      <td>15.10</td>\n",
       "      <td>664500</td>\n",
       "      <td>BRL</td>\n",
       "    </tr>\n",
       "  </tbody>\n",
       "</table>\n",
       "</div>"
      ],
      "text/plain": [
       "             Open   High    Low  Close   Volume Currency\n",
       "Date                                                    \n",
       "2021-07-02  15.22  15.59  15.19  15.50  1848000      BRL\n",
       "2021-07-05  15.45  15.75  15.38  15.57   577000      BRL\n",
       "2021-07-06  15.57  15.58  15.08  15.17   755700      BRL\n",
       "2021-07-07  15.31  15.31  14.89  15.24   873000      BRL\n",
       "2021-07-08  15.02  15.11  14.90  15.10   664500      BRL"
      ]
     },
     "execution_count": 228,
     "metadata": {},
     "output_type": "execute_result"
    }
   ],
   "source": [
    "stock_historical_data"
   ]
  },
  {
   "cell_type": "markdown",
   "id": "c59f5b5f",
   "metadata": {
    "heading_collapsed": true
   },
   "source": [
    "## 2.2 - Load"
   ]
  },
  {
   "cell_type": "markdown",
   "id": "b1705631",
   "metadata": {},
   "source": [
    "# 3.0 - Descriptive Analysis"
   ]
  },
  {
   "cell_type": "markdown",
   "id": "b4d08497",
   "metadata": {},
   "source": [
    "# 4.0 - Hypothesis Analysis"
   ]
  },
  {
   "cell_type": "markdown",
   "id": "7af419b5",
   "metadata": {},
   "source": [
    "# 5.0 - Pre-Processing"
   ]
  },
  {
   "cell_type": "markdown",
   "id": "9cd7d6f4",
   "metadata": {
    "heading_collapsed": true
   },
   "source": [
    "# 6.0 - Modeling"
   ]
  },
  {
   "cell_type": "markdown",
   "id": "bf270523",
   "metadata": {
    "heading_collapsed": true
   },
   "source": [
    "# 7.0 - Business Performance"
   ]
  },
  {
   "cell_type": "markdown",
   "id": "4e27c945",
   "metadata": {
    "heading_collapsed": true
   },
   "source": [
    "# 8.0 - Deploy"
   ]
  }
 ],
 "metadata": {
  "kernelspec": {
   "display_name": "Python 3",
   "language": "python",
   "name": "python3"
  },
  "language_info": {
   "codemirror_mode": {
    "name": "ipython",
    "version": 3
   },
   "file_extension": ".py",
   "mimetype": "text/x-python",
   "name": "python",
   "nbconvert_exporter": "python",
   "pygments_lexer": "ipython3",
   "version": "3.9.5"
  }
 },
 "nbformat": 4,
 "nbformat_minor": 5
}
