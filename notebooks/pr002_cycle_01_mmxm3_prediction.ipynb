{
 "cells": [
  {
   "cell_type": "markdown",
   "id": "775228af",
   "metadata": {
    "ExecuteTime": {
     "end_time": "2021-07-25T11:56:34.390942Z",
     "start_time": "2021-07-25T11:56:34.387238Z"
    }
   },
   "source": [
    "# mmxm3 Stock Prediction"
   ]
  },
  {
   "cell_type": "markdown",
   "id": "0cdec38e",
   "metadata": {},
   "source": [
    "- Objective:\n",
    "    - Prediction of close price from mmxm3 stock\n",
    "- How:\n",
    "    - Getting data from a data extraction project\n",
    "    - Generate insights\n",
    "    - Create a statistics model, machine learning and deep learning\n",
    "    - Deploy to heroku\n",
    "    - Delivery on dashboard on data studio"
   ]
  },
  {
   "cell_type": "markdown",
   "id": "c7549fa8",
   "metadata": {},
   "source": [
    "# 1.0 - Importing"
   ]
  },
  {
   "cell_type": "markdown",
   "id": "bc0605bb",
   "metadata": {},
   "source": [
    "## 1.1 - Lybraries"
   ]
  },
  {
   "cell_type": "code",
   "execution_count": 14,
   "id": "ed192240",
   "metadata": {
    "ExecuteTime": {
     "end_time": "2021-07-26T10:49:31.279812Z",
     "start_time": "2021-07-26T10:49:31.205329Z"
    },
    "hidden": true
   },
   "outputs": [],
   "source": [
    "# Data manipulation\n",
    "import pandas as pd\n",
    "import numpy as np\n",
    "\n",
    "# jupyter views and settings\n",
    "from IPython.core.display import display, HTML\n",
    "\n",
    "# Data visualization\n",
    "import matplotlib.pyplot as plt\n",
    "from matplotlib.dates import DateFormatter, MonthLocator, YearLocator, WeekdayLocator, MONDAY\n",
    "import seaborn as sns\n",
    "import mplfinance as mpf"
   ]
  },
  {
   "cell_type": "markdown",
   "id": "294b9213",
   "metadata": {
    "heading_collapsed": true
   },
   "source": [
    "## 1.2 - Functions"
   ]
  },
  {
   "cell_type": "code",
   "execution_count": 7,
   "id": "56594b03",
   "metadata": {
    "ExecuteTime": {
     "end_time": "2021-07-25T12:38:07.953049Z",
     "start_time": "2021-07-25T12:38:07.523708Z"
    },
    "hidden": true
   },
   "outputs": [
    {
     "name": "stdout",
     "output_type": "stream",
     "text": [
      "Populating the interactive namespace from numpy and matplotlib\n"
     ]
    },
    {
     "data": {
      "text/html": [
       "<style>.conteiner{width:100% !important;}</style>"
      ],
      "text/plain": [
       "<IPython.core.display.HTML object>"
      ]
     },
     "metadata": {},
     "output_type": "display_data"
    }
   ],
   "source": [
    "def jupyter_settings():\n",
    "    # mostrar o gráfico na célula\n",
    "    %matplotlib inline\n",
    "    %pylab inline\t\n",
    "    # tamanho dos gráficos para o matplotlib\n",
    "    plt.style.use('bmh')\n",
    "    plt.rcParams['figure.figsize'] = [25, 12]\n",
    "    plt.rcParams['font.size'] = 20\n",
    "    # colocando para aparecer todas as colunas e linhas\n",
    "    pd.options.display.max_columns = None\n",
    "    pd.options.display.max_rows = None\n",
    "    pd.set_option('display.expand_frame_repr', False)\n",
    "    # expandir a visualização da tela em 100%, como se fosse um zoom\n",
    "    display(HTML('<style>.conteiner{width:100% !important;}</style>'))\n",
    "\n",
    "    #aplicar as mesmas configurações no seaborn\n",
    "    sns.set()\n",
    "\n",
    "# para executar a função basta chamar o nome\n",
    "jupyter_settings()-"
   ]
  },
  {
   "cell_type": "markdown",
   "id": "0f66b444",
   "metadata": {},
   "source": [
    "## 1.3 - Collecting Data"
   ]
  },
  {
   "cell_type": "code",
   "execution_count": 24,
   "id": "bb1d7c18",
   "metadata": {
    "ExecuteTime": {
     "end_time": "2021-07-26T11:57:46.007416Z",
     "start_time": "2021-07-26T11:57:45.849986Z"
    }
   },
   "outputs": [],
   "source": [
    "stock_dataset = pd.read_feather('dataset/raw/dataset.ftr')\n",
    "mmxm3 = stock_dataset[stock_dataset['symbol'] == 'MMXM3']"
   ]
  },
  {
   "cell_type": "markdown",
   "id": "8416550c",
   "metadata": {},
   "source": [
    "# 2.0 - Data Cleaning"
   ]
  },
  {
   "cell_type": "markdown",
   "id": "d9fe9897",
   "metadata": {},
   "source": [
    "## 2.1 - Shape and Null"
   ]
  },
  {
   "cell_type": "markdown",
   "id": "7839fbba",
   "metadata": {},
   "source": [
    "## 2.2 - Data Type"
   ]
  },
  {
   "cell_type": "markdown",
   "id": "e26c1309",
   "metadata": {},
   "source": [
    "## 2.3 - Descriptive Statistics"
   ]
  },
  {
   "cell_type": "markdown",
   "id": "25831070",
   "metadata": {},
   "source": [
    "# 3.0 - Exploratory Data Analysis"
   ]
  },
  {
   "cell_type": "code",
   "execution_count": 15,
   "id": "bb35ffd1",
   "metadata": {
    "ExecuteTime": {
     "end_time": "2021-07-26T10:59:14.036013Z",
     "start_time": "2021-07-26T10:59:14.024010Z"
    }
   },
   "outputs": [
    {
     "ename": "SyntaxError",
     "evalue": "EOL while scanning string literal (1628868.py, line 5)",
     "output_type": "error",
     "traceback": [
      "\u001b[0;36m  File \u001b[0;32m\"/tmp/ipykernel_6430/1628868.py\"\u001b[0;36m, line \u001b[0;32m5\u001b[0m\n\u001b[0;31m    mpf.make_addplot(ibov.loc[\"2020-12-01\":, [\"Hight]])\u001b[0m\n\u001b[0m                                                       ^\u001b[0m\n\u001b[0;31mSyntaxError\u001b[0m\u001b[0;31m:\u001b[0m EOL while scanning string literal\n"
     ]
    }
   ],
   "source": [
    "# simple plot\n",
    "mpf.plot(stock_dataset)\n",
    "\n",
    "# Min and max plot\n",
    "min_max_plot = mpf.make_addplot(stock_dataset.loc[\"2020-12-01\":, [\"Hight\", \"Low\"]])\n",
    "mpf.plot(stock_dataset[\"2020-12-01\":], addplot=min_max_plot)\n",
    "\n",
    "# candle chart\n",
    "mpf.plot(stock_dataset['2020-12-01':'2020-04-01'], type='candle')\n",
    "\n",
    "# renko chart\n",
    "mpf.plot(stock_dataset, type='renko')\n",
    "\n",
    "# there are available a lot of styles for using for better visualization\n",
    "# seeing the list of all styles\n",
    "mpf.available_styles()\n",
    "\n",
    "# better style and visualization\n",
    "mpf.plot(stock_dataset,\n",
    "        figration=(10,6),\n",
    "        type='candle',\n",
    "        mav=(21),\n",
    "        volume=True,\n",
    "        title=f'valor do stock',\n",
    "        tight_layout=True,\n",
    "        style='mike')"
   ]
  },
  {
   "cell_type": "markdown",
   "id": "cb516aa0",
   "metadata": {},
   "source": [
    "## 3.1 - MindMap"
   ]
  },
  {
   "cell_type": "markdown",
   "id": "72a3b022",
   "metadata": {},
   "source": [
    "## 3.2 - Hyphotesis List"
   ]
  },
  {
   "cell_type": "markdown",
   "id": "cc7d2d50",
   "metadata": {},
   "source": [
    "## 3.3 - Hyphotesis Validation"
   ]
  },
  {
   "cell_type": "markdown",
   "id": "b513fb6c",
   "metadata": {},
   "source": [
    "# 4.0 - Feature Engineering"
   ]
  },
  {
   "cell_type": "code",
   "execution_count": null,
   "id": "6a96c408",
   "metadata": {},
   "outputs": [],
   "source": []
  }
 ],
 "metadata": {
  "kernelspec": {
   "display_name": "Python 3",
   "language": "python",
   "name": "python3"
  },
  "language_info": {
   "codemirror_mode": {
    "name": "ipython",
    "version": 3
   },
   "file_extension": ".py",
   "mimetype": "text/x-python",
   "name": "python",
   "nbconvert_exporter": "python",
   "pygments_lexer": "ipython3",
   "version": "3.9.5"
  }
 },
 "nbformat": 4,
 "nbformat_minor": 5
}
